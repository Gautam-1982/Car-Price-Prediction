{
 "cells": [
  {
   "cell_type": "code",
   "execution_count": 79,
   "metadata": {},
   "outputs": [],
   "source": [
    "import pandas as pd\n",
    "import numpy as np\n",
    "import matplotlib.pyplot as plt\n",
    "%matplotlib inline\n",
    "import seaborn\n",
    "import seaborn as sns\n",
    "import re"
   ]
  },
  {
   "cell_type": "code",
   "execution_count": 80,
   "metadata": {},
   "outputs": [
    {
     "data": {
      "text/html": [
       "<div>\n",
       "<style scoped>\n",
       "    .dataframe tbody tr th:only-of-type {\n",
       "        vertical-align: middle;\n",
       "    }\n",
       "\n",
       "    .dataframe tbody tr th {\n",
       "        vertical-align: top;\n",
       "    }\n",
       "\n",
       "    .dataframe thead th {\n",
       "        text-align: right;\n",
       "    }\n",
       "</style>\n",
       "<table border=\"1\" class=\"dataframe\">\n",
       "  <thead>\n",
       "    <tr style=\"text-align: right;\">\n",
       "      <th></th>\n",
       "      <th>Unnamed: 0</th>\n",
       "      <th>Brand</th>\n",
       "      <th>Model</th>\n",
       "      <th>KM_Driven</th>\n",
       "      <th>Price</th>\n",
       "    </tr>\n",
       "  </thead>\n",
       "  <tbody>\n",
       "    <tr>\n",
       "      <th>0</th>\n",
       "      <td>0</td>\n",
       "      <td>2021 Hyundai VENUE</td>\n",
       "      <td>S MT 1.2 KAPPA</td>\n",
       "      <td>2,589 km \\ 1st Owner \\ Petrol</td>\n",
       "      <td>₹8,07,999</td>\n",
       "    </tr>\n",
       "    <tr>\n",
       "      <th>1</th>\n",
       "      <td>1</td>\n",
       "      <td>2013 Maruti Swift</td>\n",
       "      <td>VDI Manual</td>\n",
       "      <td>11,019 km \\ 1st Owner \\ Diesel</td>\n",
       "      <td>₹3,78,499</td>\n",
       "    </tr>\n",
       "    <tr>\n",
       "      <th>2</th>\n",
       "      <td>2</td>\n",
       "      <td>2013 Maruti Alto 800</td>\n",
       "      <td>LXI Manual</td>\n",
       "      <td>8,967 km \\ 1st Owner \\ Petrol</td>\n",
       "      <td>₹2,41,499</td>\n",
       "    </tr>\n",
       "    <tr>\n",
       "      <th>3</th>\n",
       "      <td>3</td>\n",
       "      <td>2014 Maruti Alto 800</td>\n",
       "      <td>VXI Manual</td>\n",
       "      <td>12,535 km \\ 1st Owner \\ Petrol</td>\n",
       "      <td>₹3,00,099</td>\n",
       "    </tr>\n",
       "    <tr>\n",
       "      <th>4</th>\n",
       "      <td>4</td>\n",
       "      <td>2012 Maruti Swift</td>\n",
       "      <td>ZXI Manual</td>\n",
       "      <td>15,538 km \\ 1st Owner \\ Petrol</td>\n",
       "      <td>₹4,53,499</td>\n",
       "    </tr>\n",
       "    <tr>\n",
       "      <th>...</th>\n",
       "      <td>...</td>\n",
       "      <td>...</td>\n",
       "      <td>...</td>\n",
       "      <td>...</td>\n",
       "      <td>...</td>\n",
       "    </tr>\n",
       "    <tr>\n",
       "      <th>4995</th>\n",
       "      <td>4995</td>\n",
       "      <td>2010 Maruti Alto</td>\n",
       "      <td>LXI Manual</td>\n",
       "      <td>48,254 km \\ 1st Owner \\ Petrol</td>\n",
       "      <td>₹1,50,899</td>\n",
       "    </tr>\n",
       "    <tr>\n",
       "      <th>4996</th>\n",
       "      <td>4996</td>\n",
       "      <td>2015 Maruti Alto 800</td>\n",
       "      <td>LXI Manual</td>\n",
       "      <td>9,217 km \\ 1st Owner \\ Petrol</td>\n",
       "      <td>₹2,95,599</td>\n",
       "    </tr>\n",
       "    <tr>\n",
       "      <th>4997</th>\n",
       "      <td>4997</td>\n",
       "      <td>2010 Maruti Ritz</td>\n",
       "      <td>LXI Manual</td>\n",
       "      <td>26,740 km \\ 1st Owner \\ Petrol</td>\n",
       "      <td>₹2,52,799</td>\n",
       "    </tr>\n",
       "    <tr>\n",
       "      <th>4998</th>\n",
       "      <td>4998</td>\n",
       "      <td>2019 Tata Tiago</td>\n",
       "      <td>XZ 1.2 REVOTRON Manual</td>\n",
       "      <td>5,074 km \\ 1st Owner \\ Petrol</td>\n",
       "      <td>₹5,22,799</td>\n",
       "    </tr>\n",
       "    <tr>\n",
       "      <th>4999</th>\n",
       "      <td>4999</td>\n",
       "      <td>2016 Hyundai Grand i10</td>\n",
       "      <td>SPORTZ 1.2 KAPPA VTVT Manual</td>\n",
       "      <td>15,844 km \\ 1st Owner \\ Petrol</td>\n",
       "      <td>₹4,21,999</td>\n",
       "    </tr>\n",
       "  </tbody>\n",
       "</table>\n",
       "<p>5000 rows × 5 columns</p>\n",
       "</div>"
      ],
      "text/plain": [
       "      Unnamed: 0                   Brand                         Model  \\\n",
       "0              0      2021 Hyundai VENUE                S MT 1.2 KAPPA   \n",
       "1              1       2013 Maruti Swift                    VDI Manual   \n",
       "2              2    2013 Maruti Alto 800                    LXI Manual   \n",
       "3              3    2014 Maruti Alto 800                    VXI Manual   \n",
       "4              4       2012 Maruti Swift                    ZXI Manual   \n",
       "...          ...                     ...                           ...   \n",
       "4995        4995        2010 Maruti Alto                    LXI Manual   \n",
       "4996        4996    2015 Maruti Alto 800                    LXI Manual   \n",
       "4997        4997        2010 Maruti Ritz                    LXI Manual   \n",
       "4998        4998         2019 Tata Tiago        XZ 1.2 REVOTRON Manual   \n",
       "4999        4999  2016 Hyundai Grand i10  SPORTZ 1.2 KAPPA VTVT Manual   \n",
       "\n",
       "                           KM_Driven      Price  \n",
       "0      2,589 km \\ 1st Owner \\ Petrol  ₹8,07,999  \n",
       "1     11,019 km \\ 1st Owner \\ Diesel  ₹3,78,499  \n",
       "2      8,967 km \\ 1st Owner \\ Petrol  ₹2,41,499  \n",
       "3     12,535 km \\ 1st Owner \\ Petrol  ₹3,00,099  \n",
       "4     15,538 km \\ 1st Owner \\ Petrol  ₹4,53,499  \n",
       "...                              ...        ...  \n",
       "4995  48,254 km \\ 1st Owner \\ Petrol  ₹1,50,899  \n",
       "4996   9,217 km \\ 1st Owner \\ Petrol  ₹2,95,599  \n",
       "4997  26,740 km \\ 1st Owner \\ Petrol  ₹2,52,799  \n",
       "4998   5,074 km \\ 1st Owner \\ Petrol  ₹5,22,799  \n",
       "4999  15,844 km \\ 1st Owner \\ Petrol  ₹4,21,999  \n",
       "\n",
       "[5000 rows x 5 columns]"
      ]
     },
     "execution_count": 80,
     "metadata": {},
     "output_type": "execute_result"
    }
   ],
   "source": [
    "df=pd.read_csv(\"Car_Price1.csv\")\n",
    "df"
   ]
  },
  {
   "cell_type": "code",
   "execution_count": 81,
   "metadata": {},
   "outputs": [],
   "source": [
    "df=df.replace(['₹'],[''],regex=True)"
   ]
  },
  {
   "cell_type": "code",
   "execution_count": 82,
   "metadata": {},
   "outputs": [
    {
     "data": {
      "text/html": [
       "<div>\n",
       "<style scoped>\n",
       "    .dataframe tbody tr th:only-of-type {\n",
       "        vertical-align: middle;\n",
       "    }\n",
       "\n",
       "    .dataframe tbody tr th {\n",
       "        vertical-align: top;\n",
       "    }\n",
       "\n",
       "    .dataframe thead th {\n",
       "        text-align: right;\n",
       "    }\n",
       "</style>\n",
       "<table border=\"1\" class=\"dataframe\">\n",
       "  <thead>\n",
       "    <tr style=\"text-align: right;\">\n",
       "      <th></th>\n",
       "      <th>Unnamed: 0</th>\n",
       "      <th>Brand</th>\n",
       "      <th>Model</th>\n",
       "      <th>KM_Driven</th>\n",
       "      <th>Price</th>\n",
       "    </tr>\n",
       "  </thead>\n",
       "  <tbody>\n",
       "    <tr>\n",
       "      <th>0</th>\n",
       "      <td>0</td>\n",
       "      <td>2021 Hyundai VENUE</td>\n",
       "      <td>S MT 1.2 KAPPA</td>\n",
       "      <td>2,589 km \\ 1st Owner \\ Petrol</td>\n",
       "      <td>8,07,999</td>\n",
       "    </tr>\n",
       "    <tr>\n",
       "      <th>1</th>\n",
       "      <td>1</td>\n",
       "      <td>2013 Maruti Swift</td>\n",
       "      <td>VDI Manual</td>\n",
       "      <td>11,019 km \\ 1st Owner \\ Diesel</td>\n",
       "      <td>3,78,499</td>\n",
       "    </tr>\n",
       "    <tr>\n",
       "      <th>2</th>\n",
       "      <td>2</td>\n",
       "      <td>2013 Maruti Alto 800</td>\n",
       "      <td>LXI Manual</td>\n",
       "      <td>8,967 km \\ 1st Owner \\ Petrol</td>\n",
       "      <td>2,41,499</td>\n",
       "    </tr>\n",
       "    <tr>\n",
       "      <th>3</th>\n",
       "      <td>3</td>\n",
       "      <td>2014 Maruti Alto 800</td>\n",
       "      <td>VXI Manual</td>\n",
       "      <td>12,535 km \\ 1st Owner \\ Petrol</td>\n",
       "      <td>3,00,099</td>\n",
       "    </tr>\n",
       "    <tr>\n",
       "      <th>4</th>\n",
       "      <td>4</td>\n",
       "      <td>2012 Maruti Swift</td>\n",
       "      <td>ZXI Manual</td>\n",
       "      <td>15,538 km \\ 1st Owner \\ Petrol</td>\n",
       "      <td>4,53,499</td>\n",
       "    </tr>\n",
       "    <tr>\n",
       "      <th>...</th>\n",
       "      <td>...</td>\n",
       "      <td>...</td>\n",
       "      <td>...</td>\n",
       "      <td>...</td>\n",
       "      <td>...</td>\n",
       "    </tr>\n",
       "    <tr>\n",
       "      <th>4995</th>\n",
       "      <td>4995</td>\n",
       "      <td>2010 Maruti Alto</td>\n",
       "      <td>LXI Manual</td>\n",
       "      <td>48,254 km \\ 1st Owner \\ Petrol</td>\n",
       "      <td>1,50,899</td>\n",
       "    </tr>\n",
       "    <tr>\n",
       "      <th>4996</th>\n",
       "      <td>4996</td>\n",
       "      <td>2015 Maruti Alto 800</td>\n",
       "      <td>LXI Manual</td>\n",
       "      <td>9,217 km \\ 1st Owner \\ Petrol</td>\n",
       "      <td>2,95,599</td>\n",
       "    </tr>\n",
       "    <tr>\n",
       "      <th>4997</th>\n",
       "      <td>4997</td>\n",
       "      <td>2010 Maruti Ritz</td>\n",
       "      <td>LXI Manual</td>\n",
       "      <td>26,740 km \\ 1st Owner \\ Petrol</td>\n",
       "      <td>2,52,799</td>\n",
       "    </tr>\n",
       "    <tr>\n",
       "      <th>4998</th>\n",
       "      <td>4998</td>\n",
       "      <td>2019 Tata Tiago</td>\n",
       "      <td>XZ 1.2 REVOTRON Manual</td>\n",
       "      <td>5,074 km \\ 1st Owner \\ Petrol</td>\n",
       "      <td>5,22,799</td>\n",
       "    </tr>\n",
       "    <tr>\n",
       "      <th>4999</th>\n",
       "      <td>4999</td>\n",
       "      <td>2016 Hyundai Grand i10</td>\n",
       "      <td>SPORTZ 1.2 KAPPA VTVT Manual</td>\n",
       "      <td>15,844 km \\ 1st Owner \\ Petrol</td>\n",
       "      <td>4,21,999</td>\n",
       "    </tr>\n",
       "  </tbody>\n",
       "</table>\n",
       "<p>5000 rows × 5 columns</p>\n",
       "</div>"
      ],
      "text/plain": [
       "      Unnamed: 0                   Brand                         Model  \\\n",
       "0              0      2021 Hyundai VENUE                S MT 1.2 KAPPA   \n",
       "1              1       2013 Maruti Swift                    VDI Manual   \n",
       "2              2    2013 Maruti Alto 800                    LXI Manual   \n",
       "3              3    2014 Maruti Alto 800                    VXI Manual   \n",
       "4              4       2012 Maruti Swift                    ZXI Manual   \n",
       "...          ...                     ...                           ...   \n",
       "4995        4995        2010 Maruti Alto                    LXI Manual   \n",
       "4996        4996    2015 Maruti Alto 800                    LXI Manual   \n",
       "4997        4997        2010 Maruti Ritz                    LXI Manual   \n",
       "4998        4998         2019 Tata Tiago        XZ 1.2 REVOTRON Manual   \n",
       "4999        4999  2016 Hyundai Grand i10  SPORTZ 1.2 KAPPA VTVT Manual   \n",
       "\n",
       "                           KM_Driven     Price  \n",
       "0      2,589 km \\ 1st Owner \\ Petrol  8,07,999  \n",
       "1     11,019 km \\ 1st Owner \\ Diesel  3,78,499  \n",
       "2      8,967 km \\ 1st Owner \\ Petrol  2,41,499  \n",
       "3     12,535 km \\ 1st Owner \\ Petrol  3,00,099  \n",
       "4     15,538 km \\ 1st Owner \\ Petrol  4,53,499  \n",
       "...                              ...       ...  \n",
       "4995  48,254 km \\ 1st Owner \\ Petrol  1,50,899  \n",
       "4996   9,217 km \\ 1st Owner \\ Petrol  2,95,599  \n",
       "4997  26,740 km \\ 1st Owner \\ Petrol  2,52,799  \n",
       "4998   5,074 km \\ 1st Owner \\ Petrol  5,22,799  \n",
       "4999  15,844 km \\ 1st Owner \\ Petrol  4,21,999  \n",
       "\n",
       "[5000 rows x 5 columns]"
      ]
     },
     "execution_count": 82,
     "metadata": {},
     "output_type": "execute_result"
    }
   ],
   "source": [
    "df"
   ]
  },
  {
   "cell_type": "code",
   "execution_count": 83,
   "metadata": {},
   "outputs": [],
   "source": [
    "Kilometer_Driven=df[\"KM_Driven\"].str.split(\" \").str.get(0) \n",
    "Owner=df[\"KM_Driven\"].str.split(\" \").str.get(3) \n",
    "Fuel_type=df[\"KM_Driven\"].str.split(\" \").str.get(6) "
   ]
  },
  {
   "cell_type": "code",
   "execution_count": 84,
   "metadata": {},
   "outputs": [
    {
     "data": {
      "text/plain": [
       "0        2,589\n",
       "1       11,019\n",
       "2        8,967\n",
       "3       12,535\n",
       "4       15,538\n",
       "         ...  \n",
       "4995    48,254\n",
       "4996     9,217\n",
       "4997    26,740\n",
       "4998     5,074\n",
       "4999    15,844\n",
       "Name: KM_Driven, Length: 5000, dtype: object"
      ]
     },
     "execution_count": 84,
     "metadata": {},
     "output_type": "execute_result"
    }
   ],
   "source": [
    "Kilometer_Driven"
   ]
  },
  {
   "cell_type": "code",
   "execution_count": 85,
   "metadata": {},
   "outputs": [
    {
     "data": {
      "text/plain": [
       "0       1st\n",
       "1       1st\n",
       "2       1st\n",
       "3       1st\n",
       "4       1st\n",
       "       ... \n",
       "4995    1st\n",
       "4996    1st\n",
       "4997    1st\n",
       "4998    1st\n",
       "4999    1st\n",
       "Name: KM_Driven, Length: 5000, dtype: object"
      ]
     },
     "execution_count": 85,
     "metadata": {},
     "output_type": "execute_result"
    }
   ],
   "source": [
    "Owner"
   ]
  },
  {
   "cell_type": "code",
   "execution_count": 86,
   "metadata": {},
   "outputs": [
    {
     "data": {
      "text/plain": [
       "0       Petrol\n",
       "1       Diesel\n",
       "2       Petrol\n",
       "3       Petrol\n",
       "4       Petrol\n",
       "         ...  \n",
       "4995    Petrol\n",
       "4996    Petrol\n",
       "4997    Petrol\n",
       "4998    Petrol\n",
       "4999    Petrol\n",
       "Name: KM_Driven, Length: 5000, dtype: object"
      ]
     },
     "execution_count": 86,
     "metadata": {},
     "output_type": "execute_result"
    }
   ],
   "source": [
    "Fuel_type"
   ]
  },
  {
   "cell_type": "code",
   "execution_count": 87,
   "metadata": {},
   "outputs": [],
   "source": [
    "Manufacture_Year=df[\"Brand\"].str.split(\" \").str.get(0)"
   ]
  },
  {
   "cell_type": "code",
   "execution_count": 88,
   "metadata": {},
   "outputs": [
    {
     "data": {
      "text/plain": [
       "0       2021\n",
       "1       2013\n",
       "2       2013\n",
       "3       2014\n",
       "4       2012\n",
       "        ... \n",
       "4995    2010\n",
       "4996    2015\n",
       "4997    2010\n",
       "4998    2019\n",
       "4999    2016\n",
       "Name: Brand, Length: 5000, dtype: object"
      ]
     },
     "execution_count": 88,
     "metadata": {},
     "output_type": "execute_result"
    }
   ],
   "source": [
    "Manufacture_Year"
   ]
  },
  {
   "cell_type": "code",
   "execution_count": 89,
   "metadata": {},
   "outputs": [],
   "source": [
    "df[\"Kilometer_Driven\"]=df[\"KM_Driven\"].str.split(\" \").str.get(0)\n",
    "df[\"Owner\"]=df[\"KM_Driven\"].str.split(\" \").str.get(3) \n",
    "df[\"Fuel_type\"]=df[\"KM_Driven\"].str.split(\" \").str.get(6)\n",
    "df[\"Manufacture_Year\"]=df[\"Brand\"].str.split(\" \").str.get(0)\n"
   ]
  },
  {
   "cell_type": "code",
   "execution_count": 90,
   "metadata": {},
   "outputs": [
    {
     "data": {
      "text/html": [
       "<div>\n",
       "<style scoped>\n",
       "    .dataframe tbody tr th:only-of-type {\n",
       "        vertical-align: middle;\n",
       "    }\n",
       "\n",
       "    .dataframe tbody tr th {\n",
       "        vertical-align: top;\n",
       "    }\n",
       "\n",
       "    .dataframe thead th {\n",
       "        text-align: right;\n",
       "    }\n",
       "</style>\n",
       "<table border=\"1\" class=\"dataframe\">\n",
       "  <thead>\n",
       "    <tr style=\"text-align: right;\">\n",
       "      <th></th>\n",
       "      <th>Unnamed: 0</th>\n",
       "      <th>Brand</th>\n",
       "      <th>Model</th>\n",
       "      <th>KM_Driven</th>\n",
       "      <th>Price</th>\n",
       "      <th>Kilometer_Driven</th>\n",
       "      <th>Owner</th>\n",
       "      <th>Fuel_type</th>\n",
       "      <th>Manufacture_Year</th>\n",
       "    </tr>\n",
       "  </thead>\n",
       "  <tbody>\n",
       "    <tr>\n",
       "      <th>0</th>\n",
       "      <td>0</td>\n",
       "      <td>2021 Hyundai VENUE</td>\n",
       "      <td>S MT 1.2 KAPPA</td>\n",
       "      <td>2,589 km \\ 1st Owner \\ Petrol</td>\n",
       "      <td>8,07,999</td>\n",
       "      <td>2,589</td>\n",
       "      <td>1st</td>\n",
       "      <td>Petrol</td>\n",
       "      <td>2021</td>\n",
       "    </tr>\n",
       "    <tr>\n",
       "      <th>1</th>\n",
       "      <td>1</td>\n",
       "      <td>2013 Maruti Swift</td>\n",
       "      <td>VDI Manual</td>\n",
       "      <td>11,019 km \\ 1st Owner \\ Diesel</td>\n",
       "      <td>3,78,499</td>\n",
       "      <td>11,019</td>\n",
       "      <td>1st</td>\n",
       "      <td>Diesel</td>\n",
       "      <td>2013</td>\n",
       "    </tr>\n",
       "    <tr>\n",
       "      <th>2</th>\n",
       "      <td>2</td>\n",
       "      <td>2013 Maruti Alto 800</td>\n",
       "      <td>LXI Manual</td>\n",
       "      <td>8,967 km \\ 1st Owner \\ Petrol</td>\n",
       "      <td>2,41,499</td>\n",
       "      <td>8,967</td>\n",
       "      <td>1st</td>\n",
       "      <td>Petrol</td>\n",
       "      <td>2013</td>\n",
       "    </tr>\n",
       "    <tr>\n",
       "      <th>3</th>\n",
       "      <td>3</td>\n",
       "      <td>2014 Maruti Alto 800</td>\n",
       "      <td>VXI Manual</td>\n",
       "      <td>12,535 km \\ 1st Owner \\ Petrol</td>\n",
       "      <td>3,00,099</td>\n",
       "      <td>12,535</td>\n",
       "      <td>1st</td>\n",
       "      <td>Petrol</td>\n",
       "      <td>2014</td>\n",
       "    </tr>\n",
       "    <tr>\n",
       "      <th>4</th>\n",
       "      <td>4</td>\n",
       "      <td>2012 Maruti Swift</td>\n",
       "      <td>ZXI Manual</td>\n",
       "      <td>15,538 km \\ 1st Owner \\ Petrol</td>\n",
       "      <td>4,53,499</td>\n",
       "      <td>15,538</td>\n",
       "      <td>1st</td>\n",
       "      <td>Petrol</td>\n",
       "      <td>2012</td>\n",
       "    </tr>\n",
       "    <tr>\n",
       "      <th>...</th>\n",
       "      <td>...</td>\n",
       "      <td>...</td>\n",
       "      <td>...</td>\n",
       "      <td>...</td>\n",
       "      <td>...</td>\n",
       "      <td>...</td>\n",
       "      <td>...</td>\n",
       "      <td>...</td>\n",
       "      <td>...</td>\n",
       "    </tr>\n",
       "    <tr>\n",
       "      <th>4995</th>\n",
       "      <td>4995</td>\n",
       "      <td>2010 Maruti Alto</td>\n",
       "      <td>LXI Manual</td>\n",
       "      <td>48,254 km \\ 1st Owner \\ Petrol</td>\n",
       "      <td>1,50,899</td>\n",
       "      <td>48,254</td>\n",
       "      <td>1st</td>\n",
       "      <td>Petrol</td>\n",
       "      <td>2010</td>\n",
       "    </tr>\n",
       "    <tr>\n",
       "      <th>4996</th>\n",
       "      <td>4996</td>\n",
       "      <td>2015 Maruti Alto 800</td>\n",
       "      <td>LXI Manual</td>\n",
       "      <td>9,217 km \\ 1st Owner \\ Petrol</td>\n",
       "      <td>2,95,599</td>\n",
       "      <td>9,217</td>\n",
       "      <td>1st</td>\n",
       "      <td>Petrol</td>\n",
       "      <td>2015</td>\n",
       "    </tr>\n",
       "    <tr>\n",
       "      <th>4997</th>\n",
       "      <td>4997</td>\n",
       "      <td>2010 Maruti Ritz</td>\n",
       "      <td>LXI Manual</td>\n",
       "      <td>26,740 km \\ 1st Owner \\ Petrol</td>\n",
       "      <td>2,52,799</td>\n",
       "      <td>26,740</td>\n",
       "      <td>1st</td>\n",
       "      <td>Petrol</td>\n",
       "      <td>2010</td>\n",
       "    </tr>\n",
       "    <tr>\n",
       "      <th>4998</th>\n",
       "      <td>4998</td>\n",
       "      <td>2019 Tata Tiago</td>\n",
       "      <td>XZ 1.2 REVOTRON Manual</td>\n",
       "      <td>5,074 km \\ 1st Owner \\ Petrol</td>\n",
       "      <td>5,22,799</td>\n",
       "      <td>5,074</td>\n",
       "      <td>1st</td>\n",
       "      <td>Petrol</td>\n",
       "      <td>2019</td>\n",
       "    </tr>\n",
       "    <tr>\n",
       "      <th>4999</th>\n",
       "      <td>4999</td>\n",
       "      <td>2016 Hyundai Grand i10</td>\n",
       "      <td>SPORTZ 1.2 KAPPA VTVT Manual</td>\n",
       "      <td>15,844 km \\ 1st Owner \\ Petrol</td>\n",
       "      <td>4,21,999</td>\n",
       "      <td>15,844</td>\n",
       "      <td>1st</td>\n",
       "      <td>Petrol</td>\n",
       "      <td>2016</td>\n",
       "    </tr>\n",
       "  </tbody>\n",
       "</table>\n",
       "<p>5000 rows × 9 columns</p>\n",
       "</div>"
      ],
      "text/plain": [
       "      Unnamed: 0                   Brand                         Model  \\\n",
       "0              0      2021 Hyundai VENUE                S MT 1.2 KAPPA   \n",
       "1              1       2013 Maruti Swift                    VDI Manual   \n",
       "2              2    2013 Maruti Alto 800                    LXI Manual   \n",
       "3              3    2014 Maruti Alto 800                    VXI Manual   \n",
       "4              4       2012 Maruti Swift                    ZXI Manual   \n",
       "...          ...                     ...                           ...   \n",
       "4995        4995        2010 Maruti Alto                    LXI Manual   \n",
       "4996        4996    2015 Maruti Alto 800                    LXI Manual   \n",
       "4997        4997        2010 Maruti Ritz                    LXI Manual   \n",
       "4998        4998         2019 Tata Tiago        XZ 1.2 REVOTRON Manual   \n",
       "4999        4999  2016 Hyundai Grand i10  SPORTZ 1.2 KAPPA VTVT Manual   \n",
       "\n",
       "                           KM_Driven     Price Kilometer_Driven Owner  \\\n",
       "0      2,589 km \\ 1st Owner \\ Petrol  8,07,999            2,589   1st   \n",
       "1     11,019 km \\ 1st Owner \\ Diesel  3,78,499           11,019   1st   \n",
       "2      8,967 km \\ 1st Owner \\ Petrol  2,41,499            8,967   1st   \n",
       "3     12,535 km \\ 1st Owner \\ Petrol  3,00,099           12,535   1st   \n",
       "4     15,538 km \\ 1st Owner \\ Petrol  4,53,499           15,538   1st   \n",
       "...                              ...       ...              ...   ...   \n",
       "4995  48,254 km \\ 1st Owner \\ Petrol  1,50,899           48,254   1st   \n",
       "4996   9,217 km \\ 1st Owner \\ Petrol  2,95,599            9,217   1st   \n",
       "4997  26,740 km \\ 1st Owner \\ Petrol  2,52,799           26,740   1st   \n",
       "4998   5,074 km \\ 1st Owner \\ Petrol  5,22,799            5,074   1st   \n",
       "4999  15,844 km \\ 1st Owner \\ Petrol  4,21,999           15,844   1st   \n",
       "\n",
       "     Fuel_type Manufacture_Year  \n",
       "0       Petrol             2021  \n",
       "1       Diesel             2013  \n",
       "2       Petrol             2013  \n",
       "3       Petrol             2014  \n",
       "4       Petrol             2012  \n",
       "...        ...              ...  \n",
       "4995    Petrol             2010  \n",
       "4996    Petrol             2015  \n",
       "4997    Petrol             2010  \n",
       "4998    Petrol             2019  \n",
       "4999    Petrol             2016  \n",
       "\n",
       "[5000 rows x 9 columns]"
      ]
     },
     "execution_count": 90,
     "metadata": {},
     "output_type": "execute_result"
    }
   ],
   "source": [
    "df"
   ]
  },
  {
   "cell_type": "code",
   "execution_count": 91,
   "metadata": {},
   "outputs": [],
   "source": [
    "df.drop('KM_Driven',axis=1,inplace=True)"
   ]
  },
  {
   "cell_type": "code",
   "execution_count": 92,
   "metadata": {},
   "outputs": [
    {
     "data": {
      "text/html": [
       "<div>\n",
       "<style scoped>\n",
       "    .dataframe tbody tr th:only-of-type {\n",
       "        vertical-align: middle;\n",
       "    }\n",
       "\n",
       "    .dataframe tbody tr th {\n",
       "        vertical-align: top;\n",
       "    }\n",
       "\n",
       "    .dataframe thead th {\n",
       "        text-align: right;\n",
       "    }\n",
       "</style>\n",
       "<table border=\"1\" class=\"dataframe\">\n",
       "  <thead>\n",
       "    <tr style=\"text-align: right;\">\n",
       "      <th></th>\n",
       "      <th>Unnamed: 0</th>\n",
       "      <th>Brand</th>\n",
       "      <th>Model</th>\n",
       "      <th>Price</th>\n",
       "      <th>Kilometer_Driven</th>\n",
       "      <th>Owner</th>\n",
       "      <th>Fuel_type</th>\n",
       "      <th>Manufacture_Year</th>\n",
       "    </tr>\n",
       "  </thead>\n",
       "  <tbody>\n",
       "    <tr>\n",
       "      <th>0</th>\n",
       "      <td>0</td>\n",
       "      <td>2021 Hyundai VENUE</td>\n",
       "      <td>S MT 1.2 KAPPA</td>\n",
       "      <td>8,07,999</td>\n",
       "      <td>2,589</td>\n",
       "      <td>1st</td>\n",
       "      <td>Petrol</td>\n",
       "      <td>2021</td>\n",
       "    </tr>\n",
       "    <tr>\n",
       "      <th>1</th>\n",
       "      <td>1</td>\n",
       "      <td>2013 Maruti Swift</td>\n",
       "      <td>VDI Manual</td>\n",
       "      <td>3,78,499</td>\n",
       "      <td>11,019</td>\n",
       "      <td>1st</td>\n",
       "      <td>Diesel</td>\n",
       "      <td>2013</td>\n",
       "    </tr>\n",
       "    <tr>\n",
       "      <th>2</th>\n",
       "      <td>2</td>\n",
       "      <td>2013 Maruti Alto 800</td>\n",
       "      <td>LXI Manual</td>\n",
       "      <td>2,41,499</td>\n",
       "      <td>8,967</td>\n",
       "      <td>1st</td>\n",
       "      <td>Petrol</td>\n",
       "      <td>2013</td>\n",
       "    </tr>\n",
       "    <tr>\n",
       "      <th>3</th>\n",
       "      <td>3</td>\n",
       "      <td>2014 Maruti Alto 800</td>\n",
       "      <td>VXI Manual</td>\n",
       "      <td>3,00,099</td>\n",
       "      <td>12,535</td>\n",
       "      <td>1st</td>\n",
       "      <td>Petrol</td>\n",
       "      <td>2014</td>\n",
       "    </tr>\n",
       "    <tr>\n",
       "      <th>4</th>\n",
       "      <td>4</td>\n",
       "      <td>2012 Maruti Swift</td>\n",
       "      <td>ZXI Manual</td>\n",
       "      <td>4,53,499</td>\n",
       "      <td>15,538</td>\n",
       "      <td>1st</td>\n",
       "      <td>Petrol</td>\n",
       "      <td>2012</td>\n",
       "    </tr>\n",
       "  </tbody>\n",
       "</table>\n",
       "</div>"
      ],
      "text/plain": [
       "   Unnamed: 0                 Brand           Model     Price  \\\n",
       "0           0    2021 Hyundai VENUE  S MT 1.2 KAPPA  8,07,999   \n",
       "1           1     2013 Maruti Swift      VDI Manual  3,78,499   \n",
       "2           2  2013 Maruti Alto 800      LXI Manual  2,41,499   \n",
       "3           3  2014 Maruti Alto 800      VXI Manual  3,00,099   \n",
       "4           4     2012 Maruti Swift      ZXI Manual  4,53,499   \n",
       "\n",
       "  Kilometer_Driven Owner Fuel_type Manufacture_Year  \n",
       "0            2,589   1st    Petrol             2021  \n",
       "1           11,019   1st    Diesel             2013  \n",
       "2            8,967   1st    Petrol             2013  \n",
       "3           12,535   1st    Petrol             2014  \n",
       "4           15,538   1st    Petrol             2012  "
      ]
     },
     "execution_count": 92,
     "metadata": {},
     "output_type": "execute_result"
    }
   ],
   "source": [
    "df.head()"
   ]
  },
  {
   "cell_type": "code",
   "execution_count": 93,
   "metadata": {},
   "outputs": [
    {
     "data": {
      "text/plain": [
       "0            [2021, Hyundai, VENUE]\n",
       "1             [2013, Maruti, Swift]\n",
       "2         [2013, Maruti, Alto, 800]\n",
       "3         [2014, Maruti, Alto, 800]\n",
       "4             [2012, Maruti, Swift]\n",
       "                   ...             \n",
       "4995           [2010, Maruti, Alto]\n",
       "4996      [2015, Maruti, Alto, 800]\n",
       "4997           [2010, Maruti, Ritz]\n",
       "4998            [2019, Tata, Tiago]\n",
       "4999    [2016, Hyundai, Grand, i10]\n",
       "Name: Brand, Length: 5000, dtype: object"
      ]
     },
     "execution_count": 93,
     "metadata": {},
     "output_type": "execute_result"
    }
   ],
   "source": [
    "df1=df[\"Brand\"].str.split()\n",
    "\n",
    "df1"
   ]
  },
  {
   "cell_type": "code",
   "execution_count": 94,
   "metadata": {},
   "outputs": [
    {
     "data": {
      "text/plain": [
       "0                      [S, MT, 1.2, KAPPA]\n",
       "1                            [VDI, Manual]\n",
       "2                            [LXI, Manual]\n",
       "3                            [VXI, Manual]\n",
       "4                            [ZXI, Manual]\n",
       "                       ...                \n",
       "4995                         [LXI, Manual]\n",
       "4996                         [LXI, Manual]\n",
       "4997                         [LXI, Manual]\n",
       "4998           [XZ, 1.2, REVOTRON, Manual]\n",
       "4999    [SPORTZ, 1.2, KAPPA, VTVT, Manual]\n",
       "Name: Model, Length: 5000, dtype: object"
      ]
     },
     "execution_count": 94,
     "metadata": {},
     "output_type": "execute_result"
    }
   ],
   "source": [
    "df2=df[\"Model\"].str.split()\n",
    "df2"
   ]
  },
  {
   "cell_type": "code",
   "execution_count": 95,
   "metadata": {},
   "outputs": [],
   "source": [
    "df[\"Car_Brand\"]=df[\"Brand\"].str.split(\" \").str.get(1)\n",
    "df[\"Car_Model\"]=df[\"Brand\"].str.split(\" \").str.get(2)\n",
    "df[\"Varient\"]=df[\"Model\"].str.rsplit(\" \").str.get(-1)"
   ]
  },
  {
   "cell_type": "code",
   "execution_count": 96,
   "metadata": {},
   "outputs": [
    {
     "data": {
      "text/html": [
       "<div>\n",
       "<style scoped>\n",
       "    .dataframe tbody tr th:only-of-type {\n",
       "        vertical-align: middle;\n",
       "    }\n",
       "\n",
       "    .dataframe tbody tr th {\n",
       "        vertical-align: top;\n",
       "    }\n",
       "\n",
       "    .dataframe thead th {\n",
       "        text-align: right;\n",
       "    }\n",
       "</style>\n",
       "<table border=\"1\" class=\"dataframe\">\n",
       "  <thead>\n",
       "    <tr style=\"text-align: right;\">\n",
       "      <th></th>\n",
       "      <th>Unnamed: 0</th>\n",
       "      <th>Brand</th>\n",
       "      <th>Model</th>\n",
       "      <th>Price</th>\n",
       "      <th>Kilometer_Driven</th>\n",
       "      <th>Owner</th>\n",
       "      <th>Fuel_type</th>\n",
       "      <th>Manufacture_Year</th>\n",
       "      <th>Car_Brand</th>\n",
       "      <th>Car_Model</th>\n",
       "      <th>Varient</th>\n",
       "    </tr>\n",
       "  </thead>\n",
       "  <tbody>\n",
       "    <tr>\n",
       "      <th>0</th>\n",
       "      <td>0</td>\n",
       "      <td>2021 Hyundai VENUE</td>\n",
       "      <td>S MT 1.2 KAPPA</td>\n",
       "      <td>8,07,999</td>\n",
       "      <td>2,589</td>\n",
       "      <td>1st</td>\n",
       "      <td>Petrol</td>\n",
       "      <td>2021</td>\n",
       "      <td>Hyundai</td>\n",
       "      <td>VENUE</td>\n",
       "      <td>KAPPA</td>\n",
       "    </tr>\n",
       "    <tr>\n",
       "      <th>1</th>\n",
       "      <td>1</td>\n",
       "      <td>2013 Maruti Swift</td>\n",
       "      <td>VDI Manual</td>\n",
       "      <td>3,78,499</td>\n",
       "      <td>11,019</td>\n",
       "      <td>1st</td>\n",
       "      <td>Diesel</td>\n",
       "      <td>2013</td>\n",
       "      <td>Maruti</td>\n",
       "      <td>Swift</td>\n",
       "      <td>Manual</td>\n",
       "    </tr>\n",
       "    <tr>\n",
       "      <th>2</th>\n",
       "      <td>2</td>\n",
       "      <td>2013 Maruti Alto 800</td>\n",
       "      <td>LXI Manual</td>\n",
       "      <td>2,41,499</td>\n",
       "      <td>8,967</td>\n",
       "      <td>1st</td>\n",
       "      <td>Petrol</td>\n",
       "      <td>2013</td>\n",
       "      <td>Maruti</td>\n",
       "      <td>Alto</td>\n",
       "      <td>Manual</td>\n",
       "    </tr>\n",
       "    <tr>\n",
       "      <th>3</th>\n",
       "      <td>3</td>\n",
       "      <td>2014 Maruti Alto 800</td>\n",
       "      <td>VXI Manual</td>\n",
       "      <td>3,00,099</td>\n",
       "      <td>12,535</td>\n",
       "      <td>1st</td>\n",
       "      <td>Petrol</td>\n",
       "      <td>2014</td>\n",
       "      <td>Maruti</td>\n",
       "      <td>Alto</td>\n",
       "      <td>Manual</td>\n",
       "    </tr>\n",
       "    <tr>\n",
       "      <th>4</th>\n",
       "      <td>4</td>\n",
       "      <td>2012 Maruti Swift</td>\n",
       "      <td>ZXI Manual</td>\n",
       "      <td>4,53,499</td>\n",
       "      <td>15,538</td>\n",
       "      <td>1st</td>\n",
       "      <td>Petrol</td>\n",
       "      <td>2012</td>\n",
       "      <td>Maruti</td>\n",
       "      <td>Swift</td>\n",
       "      <td>Manual</td>\n",
       "    </tr>\n",
       "    <tr>\n",
       "      <th>...</th>\n",
       "      <td>...</td>\n",
       "      <td>...</td>\n",
       "      <td>...</td>\n",
       "      <td>...</td>\n",
       "      <td>...</td>\n",
       "      <td>...</td>\n",
       "      <td>...</td>\n",
       "      <td>...</td>\n",
       "      <td>...</td>\n",
       "      <td>...</td>\n",
       "      <td>...</td>\n",
       "    </tr>\n",
       "    <tr>\n",
       "      <th>4995</th>\n",
       "      <td>4995</td>\n",
       "      <td>2010 Maruti Alto</td>\n",
       "      <td>LXI Manual</td>\n",
       "      <td>1,50,899</td>\n",
       "      <td>48,254</td>\n",
       "      <td>1st</td>\n",
       "      <td>Petrol</td>\n",
       "      <td>2010</td>\n",
       "      <td>Maruti</td>\n",
       "      <td>Alto</td>\n",
       "      <td>Manual</td>\n",
       "    </tr>\n",
       "    <tr>\n",
       "      <th>4996</th>\n",
       "      <td>4996</td>\n",
       "      <td>2015 Maruti Alto 800</td>\n",
       "      <td>LXI Manual</td>\n",
       "      <td>2,95,599</td>\n",
       "      <td>9,217</td>\n",
       "      <td>1st</td>\n",
       "      <td>Petrol</td>\n",
       "      <td>2015</td>\n",
       "      <td>Maruti</td>\n",
       "      <td>Alto</td>\n",
       "      <td>Manual</td>\n",
       "    </tr>\n",
       "    <tr>\n",
       "      <th>4997</th>\n",
       "      <td>4997</td>\n",
       "      <td>2010 Maruti Ritz</td>\n",
       "      <td>LXI Manual</td>\n",
       "      <td>2,52,799</td>\n",
       "      <td>26,740</td>\n",
       "      <td>1st</td>\n",
       "      <td>Petrol</td>\n",
       "      <td>2010</td>\n",
       "      <td>Maruti</td>\n",
       "      <td>Ritz</td>\n",
       "      <td>Manual</td>\n",
       "    </tr>\n",
       "    <tr>\n",
       "      <th>4998</th>\n",
       "      <td>4998</td>\n",
       "      <td>2019 Tata Tiago</td>\n",
       "      <td>XZ 1.2 REVOTRON Manual</td>\n",
       "      <td>5,22,799</td>\n",
       "      <td>5,074</td>\n",
       "      <td>1st</td>\n",
       "      <td>Petrol</td>\n",
       "      <td>2019</td>\n",
       "      <td>Tata</td>\n",
       "      <td>Tiago</td>\n",
       "      <td>Manual</td>\n",
       "    </tr>\n",
       "    <tr>\n",
       "      <th>4999</th>\n",
       "      <td>4999</td>\n",
       "      <td>2016 Hyundai Grand i10</td>\n",
       "      <td>SPORTZ 1.2 KAPPA VTVT Manual</td>\n",
       "      <td>4,21,999</td>\n",
       "      <td>15,844</td>\n",
       "      <td>1st</td>\n",
       "      <td>Petrol</td>\n",
       "      <td>2016</td>\n",
       "      <td>Hyundai</td>\n",
       "      <td>Grand</td>\n",
       "      <td>Manual</td>\n",
       "    </tr>\n",
       "  </tbody>\n",
       "</table>\n",
       "<p>5000 rows × 11 columns</p>\n",
       "</div>"
      ],
      "text/plain": [
       "      Unnamed: 0                   Brand                         Model  \\\n",
       "0              0      2021 Hyundai VENUE                S MT 1.2 KAPPA   \n",
       "1              1       2013 Maruti Swift                    VDI Manual   \n",
       "2              2    2013 Maruti Alto 800                    LXI Manual   \n",
       "3              3    2014 Maruti Alto 800                    VXI Manual   \n",
       "4              4       2012 Maruti Swift                    ZXI Manual   \n",
       "...          ...                     ...                           ...   \n",
       "4995        4995        2010 Maruti Alto                    LXI Manual   \n",
       "4996        4996    2015 Maruti Alto 800                    LXI Manual   \n",
       "4997        4997        2010 Maruti Ritz                    LXI Manual   \n",
       "4998        4998         2019 Tata Tiago        XZ 1.2 REVOTRON Manual   \n",
       "4999        4999  2016 Hyundai Grand i10  SPORTZ 1.2 KAPPA VTVT Manual   \n",
       "\n",
       "         Price Kilometer_Driven Owner Fuel_type Manufacture_Year Car_Brand  \\\n",
       "0     8,07,999            2,589   1st    Petrol             2021   Hyundai   \n",
       "1     3,78,499           11,019   1st    Diesel             2013    Maruti   \n",
       "2     2,41,499            8,967   1st    Petrol             2013    Maruti   \n",
       "3     3,00,099           12,535   1st    Petrol             2014    Maruti   \n",
       "4     4,53,499           15,538   1st    Petrol             2012    Maruti   \n",
       "...        ...              ...   ...       ...              ...       ...   \n",
       "4995  1,50,899           48,254   1st    Petrol             2010    Maruti   \n",
       "4996  2,95,599            9,217   1st    Petrol             2015    Maruti   \n",
       "4997  2,52,799           26,740   1st    Petrol             2010    Maruti   \n",
       "4998  5,22,799            5,074   1st    Petrol             2019      Tata   \n",
       "4999  4,21,999           15,844   1st    Petrol             2016   Hyundai   \n",
       "\n",
       "     Car_Model Varient  \n",
       "0        VENUE   KAPPA  \n",
       "1        Swift  Manual  \n",
       "2         Alto  Manual  \n",
       "3         Alto  Manual  \n",
       "4        Swift  Manual  \n",
       "...        ...     ...  \n",
       "4995      Alto  Manual  \n",
       "4996      Alto  Manual  \n",
       "4997      Ritz  Manual  \n",
       "4998     Tiago  Manual  \n",
       "4999     Grand  Manual  \n",
       "\n",
       "[5000 rows x 11 columns]"
      ]
     },
     "execution_count": 96,
     "metadata": {},
     "output_type": "execute_result"
    }
   ],
   "source": [
    "df"
   ]
  },
  {
   "cell_type": "code",
   "execution_count": 97,
   "metadata": {},
   "outputs": [],
   "source": [
    "df.drop('Brand',axis=1,inplace=True)"
   ]
  },
  {
   "cell_type": "code",
   "execution_count": 98,
   "metadata": {},
   "outputs": [],
   "source": [
    "df.drop('Model',axis=1,inplace=True)"
   ]
  },
  {
   "cell_type": "code",
   "execution_count": 99,
   "metadata": {},
   "outputs": [],
   "source": [
    "df=df.replace(['KAPPA'],['Manual'],regex=True)"
   ]
  },
  {
   "cell_type": "code",
   "execution_count": 100,
   "metadata": {},
   "outputs": [],
   "source": [
    "df['Price']=df['Price'].str.replace(',','').astype(int)"
   ]
  },
  {
   "cell_type": "code",
   "execution_count": 101,
   "metadata": {},
   "outputs": [],
   "source": [
    "df['Kilometer_Driven']=df['Kilometer_Driven'].str.replace(',','').astype(int)"
   ]
  },
  {
   "cell_type": "code",
   "execution_count": 102,
   "metadata": {},
   "outputs": [],
   "source": [
    "df['Manufacture_Year']=df['Manufacture_Year'].astype(int)"
   ]
  },
  {
   "cell_type": "code",
   "execution_count": 103,
   "metadata": {},
   "outputs": [
    {
     "data": {
      "text/html": [
       "<div>\n",
       "<style scoped>\n",
       "    .dataframe tbody tr th:only-of-type {\n",
       "        vertical-align: middle;\n",
       "    }\n",
       "\n",
       "    .dataframe tbody tr th {\n",
       "        vertical-align: top;\n",
       "    }\n",
       "\n",
       "    .dataframe thead th {\n",
       "        text-align: right;\n",
       "    }\n",
       "</style>\n",
       "<table border=\"1\" class=\"dataframe\">\n",
       "  <thead>\n",
       "    <tr style=\"text-align: right;\">\n",
       "      <th></th>\n",
       "      <th>Unnamed: 0</th>\n",
       "      <th>Price</th>\n",
       "      <th>Kilometer_Driven</th>\n",
       "      <th>Owner</th>\n",
       "      <th>Fuel_type</th>\n",
       "      <th>Manufacture_Year</th>\n",
       "      <th>Car_Brand</th>\n",
       "      <th>Car_Model</th>\n",
       "      <th>Varient</th>\n",
       "    </tr>\n",
       "  </thead>\n",
       "  <tbody>\n",
       "    <tr>\n",
       "      <th>0</th>\n",
       "      <td>0</td>\n",
       "      <td>807999</td>\n",
       "      <td>2589</td>\n",
       "      <td>1st</td>\n",
       "      <td>Petrol</td>\n",
       "      <td>2021</td>\n",
       "      <td>Hyundai</td>\n",
       "      <td>VENUE</td>\n",
       "      <td>Manual</td>\n",
       "    </tr>\n",
       "    <tr>\n",
       "      <th>1</th>\n",
       "      <td>1</td>\n",
       "      <td>378499</td>\n",
       "      <td>11019</td>\n",
       "      <td>1st</td>\n",
       "      <td>Diesel</td>\n",
       "      <td>2013</td>\n",
       "      <td>Maruti</td>\n",
       "      <td>Swift</td>\n",
       "      <td>Manual</td>\n",
       "    </tr>\n",
       "    <tr>\n",
       "      <th>2</th>\n",
       "      <td>2</td>\n",
       "      <td>241499</td>\n",
       "      <td>8967</td>\n",
       "      <td>1st</td>\n",
       "      <td>Petrol</td>\n",
       "      <td>2013</td>\n",
       "      <td>Maruti</td>\n",
       "      <td>Alto</td>\n",
       "      <td>Manual</td>\n",
       "    </tr>\n",
       "    <tr>\n",
       "      <th>3</th>\n",
       "      <td>3</td>\n",
       "      <td>300099</td>\n",
       "      <td>12535</td>\n",
       "      <td>1st</td>\n",
       "      <td>Petrol</td>\n",
       "      <td>2014</td>\n",
       "      <td>Maruti</td>\n",
       "      <td>Alto</td>\n",
       "      <td>Manual</td>\n",
       "    </tr>\n",
       "    <tr>\n",
       "      <th>4</th>\n",
       "      <td>4</td>\n",
       "      <td>453499</td>\n",
       "      <td>15538</td>\n",
       "      <td>1st</td>\n",
       "      <td>Petrol</td>\n",
       "      <td>2012</td>\n",
       "      <td>Maruti</td>\n",
       "      <td>Swift</td>\n",
       "      <td>Manual</td>\n",
       "    </tr>\n",
       "    <tr>\n",
       "      <th>...</th>\n",
       "      <td>...</td>\n",
       "      <td>...</td>\n",
       "      <td>...</td>\n",
       "      <td>...</td>\n",
       "      <td>...</td>\n",
       "      <td>...</td>\n",
       "      <td>...</td>\n",
       "      <td>...</td>\n",
       "      <td>...</td>\n",
       "    </tr>\n",
       "    <tr>\n",
       "      <th>4995</th>\n",
       "      <td>4995</td>\n",
       "      <td>150899</td>\n",
       "      <td>48254</td>\n",
       "      <td>1st</td>\n",
       "      <td>Petrol</td>\n",
       "      <td>2010</td>\n",
       "      <td>Maruti</td>\n",
       "      <td>Alto</td>\n",
       "      <td>Manual</td>\n",
       "    </tr>\n",
       "    <tr>\n",
       "      <th>4996</th>\n",
       "      <td>4996</td>\n",
       "      <td>295599</td>\n",
       "      <td>9217</td>\n",
       "      <td>1st</td>\n",
       "      <td>Petrol</td>\n",
       "      <td>2015</td>\n",
       "      <td>Maruti</td>\n",
       "      <td>Alto</td>\n",
       "      <td>Manual</td>\n",
       "    </tr>\n",
       "    <tr>\n",
       "      <th>4997</th>\n",
       "      <td>4997</td>\n",
       "      <td>252799</td>\n",
       "      <td>26740</td>\n",
       "      <td>1st</td>\n",
       "      <td>Petrol</td>\n",
       "      <td>2010</td>\n",
       "      <td>Maruti</td>\n",
       "      <td>Ritz</td>\n",
       "      <td>Manual</td>\n",
       "    </tr>\n",
       "    <tr>\n",
       "      <th>4998</th>\n",
       "      <td>4998</td>\n",
       "      <td>522799</td>\n",
       "      <td>5074</td>\n",
       "      <td>1st</td>\n",
       "      <td>Petrol</td>\n",
       "      <td>2019</td>\n",
       "      <td>Tata</td>\n",
       "      <td>Tiago</td>\n",
       "      <td>Manual</td>\n",
       "    </tr>\n",
       "    <tr>\n",
       "      <th>4999</th>\n",
       "      <td>4999</td>\n",
       "      <td>421999</td>\n",
       "      <td>15844</td>\n",
       "      <td>1st</td>\n",
       "      <td>Petrol</td>\n",
       "      <td>2016</td>\n",
       "      <td>Hyundai</td>\n",
       "      <td>Grand</td>\n",
       "      <td>Manual</td>\n",
       "    </tr>\n",
       "  </tbody>\n",
       "</table>\n",
       "<p>5000 rows × 9 columns</p>\n",
       "</div>"
      ],
      "text/plain": [
       "      Unnamed: 0   Price  Kilometer_Driven Owner Fuel_type  Manufacture_Year  \\\n",
       "0              0  807999              2589   1st    Petrol              2021   \n",
       "1              1  378499             11019   1st    Diesel              2013   \n",
       "2              2  241499              8967   1st    Petrol              2013   \n",
       "3              3  300099             12535   1st    Petrol              2014   \n",
       "4              4  453499             15538   1st    Petrol              2012   \n",
       "...          ...     ...               ...   ...       ...               ...   \n",
       "4995        4995  150899             48254   1st    Petrol              2010   \n",
       "4996        4996  295599              9217   1st    Petrol              2015   \n",
       "4997        4997  252799             26740   1st    Petrol              2010   \n",
       "4998        4998  522799              5074   1st    Petrol              2019   \n",
       "4999        4999  421999             15844   1st    Petrol              2016   \n",
       "\n",
       "     Car_Brand Car_Model Varient  \n",
       "0      Hyundai     VENUE  Manual  \n",
       "1       Maruti     Swift  Manual  \n",
       "2       Maruti      Alto  Manual  \n",
       "3       Maruti      Alto  Manual  \n",
       "4       Maruti     Swift  Manual  \n",
       "...        ...       ...     ...  \n",
       "4995    Maruti      Alto  Manual  \n",
       "4996    Maruti      Alto  Manual  \n",
       "4997    Maruti      Ritz  Manual  \n",
       "4998      Tata     Tiago  Manual  \n",
       "4999   Hyundai     Grand  Manual  \n",
       "\n",
       "[5000 rows x 9 columns]"
      ]
     },
     "execution_count": 103,
     "metadata": {},
     "output_type": "execute_result"
    }
   ],
   "source": [
    "df"
   ]
  },
  {
   "cell_type": "code",
   "execution_count": 104,
   "metadata": {},
   "outputs": [
    {
     "data": {
      "text/plain": [
       "(5000, 9)"
      ]
     },
     "execution_count": 104,
     "metadata": {},
     "output_type": "execute_result"
    }
   ],
   "source": [
    "#checking Shape\n",
    "df.shape"
   ]
  },
  {
   "cell_type": "code",
   "execution_count": 105,
   "metadata": {},
   "outputs": [
    {
     "data": {
      "text/plain": [
       "Index(['Unnamed: 0', 'Price', 'Kilometer_Driven', 'Owner', 'Fuel_type',\n",
       "       'Manufacture_Year', 'Car_Brand', 'Car_Model', 'Varient'],\n",
       "      dtype='object')"
      ]
     },
     "execution_count": 105,
     "metadata": {},
     "output_type": "execute_result"
    }
   ],
   "source": [
    "#checking columns\n",
    "df.columns"
   ]
  },
  {
   "cell_type": "code",
   "execution_count": 106,
   "metadata": {},
   "outputs": [
    {
     "name": "stdout",
     "output_type": "stream",
     "text": [
      "<class 'pandas.core.frame.DataFrame'>\n",
      "RangeIndex: 5000 entries, 0 to 4999\n",
      "Data columns (total 9 columns):\n",
      " #   Column            Non-Null Count  Dtype \n",
      "---  ------            --------------  ----- \n",
      " 0   Unnamed: 0        5000 non-null   int64 \n",
      " 1   Price             5000 non-null   int32 \n",
      " 2   Kilometer_Driven  5000 non-null   int32 \n",
      " 3   Owner             5000 non-null   object\n",
      " 4   Fuel_type         5000 non-null   object\n",
      " 5   Manufacture_Year  5000 non-null   int32 \n",
      " 6   Car_Brand         5000 non-null   object\n",
      " 7   Car_Model         5000 non-null   object\n",
      " 8   Varient           5000 non-null   object\n",
      "dtypes: int32(3), int64(1), object(5)\n",
      "memory usage: 293.1+ KB\n"
     ]
    }
   ],
   "source": [
    "df.info()"
   ]
  },
  {
   "cell_type": "code",
   "execution_count": 107,
   "metadata": {},
   "outputs": [
    {
     "data": {
      "text/plain": [
       "Unnamed: 0          0\n",
       "Price               0\n",
       "Kilometer_Driven    0\n",
       "Owner               0\n",
       "Fuel_type           0\n",
       "Manufacture_Year    0\n",
       "Car_Brand           0\n",
       "Car_Model           0\n",
       "Varient             0\n",
       "dtype: int64"
      ]
     },
     "execution_count": 107,
     "metadata": {},
     "output_type": "execute_result"
    }
   ],
   "source": [
    "#checking Null Value in Columns\n",
    "df.isnull().sum()"
   ]
  },
  {
   "cell_type": "code",
   "execution_count": 108,
   "metadata": {},
   "outputs": [
    {
     "data": {
      "text/plain": [
       "<matplotlib.axes._subplots.AxesSubplot at 0x1aa8a234430>"
      ]
     },
     "execution_count": 108,
     "metadata": {},
     "output_type": "execute_result"
    },
    {
     "data": {
      "image/png": "[encoded data removed]",
      "text/plain": [
       "<Figure size 432x288 with 1 Axes>"
      ]
     },
     "metadata": {
      "needs_background": "light"
     },
     "output_type": "display_data"
    }
   ],
   "source": [
    "#checking null value in Heatmap \n",
    "sns.heatmap(df.isnull(),yticklabels=False,cbar=False)"
   ]
  },
  {
   "cell_type": "markdown",
   "metadata": {},
   "source": [
    "no any null value prasent in this dataset"
   ]
  },
  {
   "cell_type": "code",
   "execution_count": 109,
   "metadata": {},
   "outputs": [],
   "source": [
    "# droping varient column due to all are unique value\n",
    "df.drop('Varient',axis=1,inplace=True)\n"
   ]
  },
  {
   "cell_type": "code",
   "execution_count": 110,
   "metadata": {},
   "outputs": [],
   "source": [
    "df.drop('Unnamed: 0',axis=1,inplace=True)"
   ]
  },
  {
   "cell_type": "code",
   "execution_count": 111,
   "metadata": {},
   "outputs": [
    {
     "data": {
      "image/png": "[encoded data removed]",
      "text/plain": [
       "<Figure size 432x288 with 1 Axes>"
      ]
     },
     "metadata": {
      "needs_background": "light"
     },
     "output_type": "display_data"
    },
    {
     "name": "stdout",
     "output_type": "stream",
     "text": [
      "1st    4750\n",
      "2nd     250\n",
      "Name: Owner, dtype: int64\n"
     ]
    }
   ],
   "source": [
    "#Checking Owner type\n",
    "plt.subplots(figsize=(6,4))\n",
    "sns.countplot(x=\"Owner\",data=df)\n",
    "plt.title(\"Counting of Owner\")\n",
    "plt.show()\n",
    "\n",
    "print(df.Owner.value_counts())"
   ]
  },
  {
   "cell_type": "code",
   "execution_count": 112,
   "metadata": {},
   "outputs": [
    {
     "data": {
      "image/png": "[encoded data removed]",
      "text/plain": [
       "<Figure size 432x288 with 1 Axes>"
      ]
     },
     "metadata": {
      "needs_background": "light"
     },
     "output_type": "display_data"
    },
    {
     "name": "stdout",
     "output_type": "stream",
     "text": [
      "Petrol    4500\n",
      "Diesel     500\n",
      "Name: Fuel_type, dtype: int64\n"
     ]
    }
   ],
   "source": [
    "#Checking Fuel type Cars\n",
    "plt.subplots(figsize=(6,4))\n",
    "sns.countplot(x=\"Fuel_type\",data=df)\n",
    "plt.title(\"Counting of Fuel Type Cars\")\n",
    "plt.show()\n",
    "\n",
    "print(df.Fuel_type.value_counts())"
   ]
  },
  {
   "cell_type": "code",
   "execution_count": 113,
   "metadata": {},
   "outputs": [
    {
     "data": {
      "image/png": "[encoded data removed]",
      "text/plain": [
       "<Figure size 432x288 with 1 Axes>"
      ]
     },
     "metadata": {
      "needs_background": "light"
     },
     "output_type": "display_data"
    },
    {
     "name": "stdout",
     "output_type": "stream",
     "text": [
      "Maruti     3750\n",
      "Hyundai    1000\n",
      "Tata        250\n",
      "Name: Car_Brand, dtype: int64\n"
     ]
    }
   ],
   "source": [
    "#Checking Car Brand type\n",
    "plt.subplots(figsize=(6,4))\n",
    "sns.countplot(x=\"Car_Brand\",data=df)\n",
    "plt.title(\" Brands of Used Cars\")\n",
    "plt.show()\n",
    "\n",
    "print(df.Car_Brand.value_counts())"
   ]
  },
  {
   "cell_type": "code",
   "execution_count": 114,
   "metadata": {},
   "outputs": [
    {
     "data": {
      "image/png": "[encoded data removed]",
      "text/plain": [
       "<Figure size 432x288 with 1 Axes>"
      ]
     },
     "metadata": {
      "needs_background": "light"
     },
     "output_type": "display_data"
    },
    {
     "name": "stdout",
     "output_type": "stream",
     "text": [
      "2015    750\n",
      "2017    750\n",
      "2019    500\n",
      "2018    500\n",
      "2010    500\n",
      "2013    500\n",
      "2012    500\n",
      "2011    250\n",
      "2014    250\n",
      "2021    250\n",
      "2016    250\n",
      "Name: Manufacture_Year, dtype: int64\n"
     ]
    }
   ],
   "source": [
    "#Checking Car Manufacturing Year type\n",
    "plt.subplots(figsize=(6,4))\n",
    "sns.countplot(x=\"Manufacture_Year\",data=df)\n",
    "plt.title(\"Manufacturing_year of Used Cars\")\n",
    "plt.show()\n",
    "\n",
    "print(df.Manufacture_Year.value_counts())"
   ]
  },
  {
   "cell_type": "code",
   "execution_count": 115,
   "metadata": {},
   "outputs": [
    {
     "data": {
      "image/png": "[encoded data removed]",
      "text/plain": [
       "<Figure size 432x288 with 1 Axes>"
      ]
     },
     "metadata": {
      "needs_background": "light"
     },
     "output_type": "display_data"
    },
    {
     "name": "stdout",
     "output_type": "stream",
     "text": [
      "Alto     2500\n",
      "Grand     500\n",
      "Ritz      500\n",
      "Swift     500\n",
      "VENUE     250\n",
      "Eeco      250\n",
      "Elite     250\n",
      "Tiago     250\n",
      "Name: Car_Model, dtype: int64\n"
     ]
    }
   ],
   "source": [
    "#Checking Car Model type\n",
    "plt.subplots(figsize=(6,4))\n",
    "sns.countplot(x=\"Car_Model\",data=df)\n",
    "plt.title(\"Model of Used Cars\")\n",
    "plt.show()\n",
    "\n",
    "print(df.Car_Model.value_counts())"
   ]
  },
  {
   "cell_type": "code",
   "execution_count": 116,
   "metadata": {},
   "outputs": [
    {
     "data": {
      "image/png": "[encoded data removed]",
      "text/plain": [
       "<Figure size 1296x576 with 1 Axes>"
      ]
     },
     "metadata": {
      "needs_background": "light"
     },
     "output_type": "display_data"
    },
    {
     "name": "stdout",
     "output_type": "stream",
     "text": [
      "304999    250\n",
      "378499    250\n",
      "252799    250\n",
      "442199    250\n",
      "421999    250\n",
      "275099    250\n",
      "807999    250\n",
      "300099    250\n",
      "308899    250\n",
      "374499    250\n",
      "453499    250\n",
      "216199    250\n",
      "412899    250\n",
      "150899    250\n",
      "315099    250\n",
      "241499    250\n",
      "577399    250\n",
      "180699    250\n",
      "295599    250\n",
      "522799    250\n",
      "Name: Price, dtype: int64\n"
     ]
    }
   ],
   "source": [
    "plt.subplots(figsize=(18,8))\n",
    "sns.countplot(x='Price',data=df,palette='rainbow')\n",
    "plt.title('Used car Price',fontsize=18)\n",
    "plt.show()\n",
    "\n",
    "print(df['Price'].value_counts())"
   ]
  },
  {
   "cell_type": "code",
   "execution_count": 117,
   "metadata": {},
   "outputs": [
    {
     "data": {
      "image/png": "[encoded data removed]",
      "text/plain": [
       "<Figure size 1296x576 with 1 Axes>"
      ]
     },
     "metadata": {
      "needs_background": "light"
     },
     "output_type": "display_data"
    },
    {
     "name": "stdout",
     "output_type": "stream",
     "text": [
      "5937     250\n",
      "32356    250\n",
      "10957    250\n",
      "5074     250\n",
      "26740    250\n",
      "12535    250\n",
      "9217     250\n",
      "9249     250\n",
      "48254    250\n",
      "15538    250\n",
      "22091    250\n",
      "5851     250\n",
      "12676    250\n",
      "11019    250\n",
      "9578     250\n",
      "24353    250\n",
      "8967     250\n",
      "9527     250\n",
      "15844    250\n",
      "2589     250\n",
      "Name: Kilometer_Driven, dtype: int64\n"
     ]
    }
   ],
   "source": [
    "plt.subplots(figsize=(18,8))\n",
    "sns.countplot(x='Kilometer_Driven',data=df,palette='rainbow')\n",
    "plt.title('Used car  Driven Check',fontsize=18)\n",
    "plt.show()\n",
    "\n",
    "print(df['Kilometer_Driven'].value_counts())"
   ]
  },
  {
   "cell_type": "code",
   "execution_count": 118,
   "metadata": {},
   "outputs": [
    {
     "name": "stdout",
     "output_type": "stream",
     "text": [
      "<class 'pandas.core.frame.DataFrame'>\n",
      "RangeIndex: 5000 entries, 0 to 4999\n",
      "Data columns (total 7 columns):\n",
      " #   Column            Non-Null Count  Dtype \n",
      "---  ------            --------------  ----- \n",
      " 0   Price             5000 non-null   int32 \n",
      " 1   Kilometer_Driven  5000 non-null   int32 \n",
      " 2   Owner             5000 non-null   object\n",
      " 3   Fuel_type         5000 non-null   object\n",
      " 4   Manufacture_Year  5000 non-null   int32 \n",
      " 5   Car_Brand         5000 non-null   object\n",
      " 6   Car_Model         5000 non-null   object\n",
      "dtypes: int32(3), object(4)\n",
      "memory usage: 215.0+ KB\n"
     ]
    }
   ],
   "source": [
    "df.info()"
   ]
  },
  {
   "cell_type": "code",
   "execution_count": null,
   "metadata": {},
   "outputs": [],
   "source": []
  },
  {
   "cell_type": "code",
   "execution_count": 119,
   "metadata": {},
   "outputs": [
    {
     "data": {
      "text/plain": [
       "<matplotlib.axes._subplots.AxesSubplot at 0x1aa8a6c5ac0>"
      ]
     },
     "execution_count": 119,
     "metadata": {},
     "output_type": "execute_result"
    },
    {
     "data": {
      "image/png": "[encoded data removed]",
      "text/plain": [
       "<Figure size 1440x1080 with 6 Axes>"
      ]
     },
     "metadata": {
      "needs_background": "light"
     },
     "output_type": "display_data"
    }
   ],
   "source": [
    "plt.figure(figsize =(20,15))\n",
    "green_diamond = dict(markerfacecolor='g', marker='D')\n",
    "\n",
    "plt.subplot(4,3, 1)\n",
    "sns.boxplot(y='Price', x='Car_Brand', data= df, flierprops=green_diamond)\n",
    "\n",
    "plt.subplot(4,3, 2)\n",
    "sns.boxplot(y='Price', x='Car_Model', data= df, flierprops=green_diamond)\n",
    "\n",
    "plt.subplot(4,3, 3)\n",
    "sns.boxplot(y='Price', x='Kilometer_Driven', data= df, flierprops=green_diamond)\n",
    "\n",
    "plt.subplot(4,3, 4)\n",
    "sns.boxplot(y='Price', x='Owner', data= df, flierprops=green_diamond)\n",
    "\n",
    "plt.subplot(4,3, 5)\n",
    "sns.boxplot(y='Price', x='Fuel_type', data= df, flierprops=green_diamond)\n",
    "            \n",
    "plt.subplot(4,3, 6)\n",
    "sns.boxplot(y='Price', x='Manufacture_Year', data= df, flierprops=green_diamond)"
   ]
  },
  {
   "cell_type": "code",
   "execution_count": 120,
   "metadata": {},
   "outputs": [],
   "source": [
    "from sklearn.preprocessing import LabelEncoder"
   ]
  },
  {
   "cell_type": "code",
   "execution_count": 121,
   "metadata": {},
   "outputs": [],
   "source": [
    "le=LabelEncoder()\n",
    "df['Owner']=le.fit_transform(df['Owner'])\n"
   ]
  },
  {
   "cell_type": "code",
   "execution_count": 122,
   "metadata": {},
   "outputs": [],
   "source": [
    "le=LabelEncoder()\n",
    "df['Fuel_type']=le.fit_transform(df['Fuel_type'])"
   ]
  },
  {
   "cell_type": "code",
   "execution_count": 123,
   "metadata": {},
   "outputs": [],
   "source": [
    "le=LabelEncoder()\n",
    "df['Car_Brand']=le.fit_transform(df['Car_Brand'])"
   ]
  },
  {
   "cell_type": "code",
   "execution_count": 124,
   "metadata": {},
   "outputs": [],
   "source": [
    "le=LabelEncoder()\n",
    "df['Car_Model']=le.fit_transform(df['Car_Model'])"
   ]
  },
  {
   "cell_type": "code",
   "execution_count": 125,
   "metadata": {},
   "outputs": [],
   "source": [
    "le=LabelEncoder()\n",
    "df['Manufacture_Year']=le.fit_transform(df['Manufacture_Year'])"
   ]
  },
  {
   "cell_type": "code",
   "execution_count": 126,
   "metadata": {},
   "outputs": [
    {
     "data": {
      "text/html": [
       "<div>\n",
       "<style scoped>\n",
       "    .dataframe tbody tr th:only-of-type {\n",
       "        vertical-align: middle;\n",
       "    }\n",
       "\n",
       "    .dataframe tbody tr th {\n",
       "        vertical-align: top;\n",
       "    }\n",
       "\n",
       "    .dataframe thead th {\n",
       "        text-align: right;\n",
       "    }\n",
       "</style>\n",
       "<table border=\"1\" class=\"dataframe\">\n",
       "  <thead>\n",
       "    <tr style=\"text-align: right;\">\n",
       "      <th></th>\n",
       "      <th>Price</th>\n",
       "      <th>Kilometer_Driven</th>\n",
       "      <th>Owner</th>\n",
       "      <th>Fuel_type</th>\n",
       "      <th>Manufacture_Year</th>\n",
       "      <th>Car_Brand</th>\n",
       "      <th>Car_Model</th>\n",
       "    </tr>\n",
       "  </thead>\n",
       "  <tbody>\n",
       "    <tr>\n",
       "      <th>0</th>\n",
       "      <td>807999</td>\n",
       "      <td>2589</td>\n",
       "      <td>0</td>\n",
       "      <td>1</td>\n",
       "      <td>10</td>\n",
       "      <td>0</td>\n",
       "      <td>7</td>\n",
       "    </tr>\n",
       "    <tr>\n",
       "      <th>1</th>\n",
       "      <td>378499</td>\n",
       "      <td>11019</td>\n",
       "      <td>0</td>\n",
       "      <td>0</td>\n",
       "      <td>3</td>\n",
       "      <td>1</td>\n",
       "      <td>5</td>\n",
       "    </tr>\n",
       "    <tr>\n",
       "      <th>2</th>\n",
       "      <td>241499</td>\n",
       "      <td>8967</td>\n",
       "      <td>0</td>\n",
       "      <td>1</td>\n",
       "      <td>3</td>\n",
       "      <td>1</td>\n",
       "      <td>0</td>\n",
       "    </tr>\n",
       "    <tr>\n",
       "      <th>3</th>\n",
       "      <td>300099</td>\n",
       "      <td>12535</td>\n",
       "      <td>0</td>\n",
       "      <td>1</td>\n",
       "      <td>4</td>\n",
       "      <td>1</td>\n",
       "      <td>0</td>\n",
       "    </tr>\n",
       "    <tr>\n",
       "      <th>4</th>\n",
       "      <td>453499</td>\n",
       "      <td>15538</td>\n",
       "      <td>0</td>\n",
       "      <td>1</td>\n",
       "      <td>2</td>\n",
       "      <td>1</td>\n",
       "      <td>5</td>\n",
       "    </tr>\n",
       "  </tbody>\n",
       "</table>\n",
       "</div>"
      ],
      "text/plain": [
       "    Price  Kilometer_Driven  Owner  Fuel_type  Manufacture_Year  Car_Brand  \\\n",
       "0  807999              2589      0          1                10          0   \n",
       "1  378499             11019      0          0                 3          1   \n",
       "2  241499              8967      0          1                 3          1   \n",
       "3  300099             12535      0          1                 4          1   \n",
       "4  453499             15538      0          1                 2          1   \n",
       "\n",
       "   Car_Model  \n",
       "0          7  \n",
       "1          5  \n",
       "2          0  \n",
       "3          0  \n",
       "4          5  "
      ]
     },
     "execution_count": 126,
     "metadata": {},
     "output_type": "execute_result"
    }
   ],
   "source": [
    "df.head()"
   ]
  },
  {
   "cell_type": "markdown",
   "metadata": {},
   "source": [
    "# Summary Statistics"
   ]
  },
  {
   "cell_type": "code",
   "execution_count": 127,
   "metadata": {},
   "outputs": [
    {
     "data": {
      "text/html": [
       "<div>\n",
       "<style scoped>\n",
       "    .dataframe tbody tr th:only-of-type {\n",
       "        vertical-align: middle;\n",
       "    }\n",
       "\n",
       "    .dataframe tbody tr th {\n",
       "        vertical-align: top;\n",
       "    }\n",
       "\n",
       "    .dataframe thead th {\n",
       "        text-align: right;\n",
       "    }\n",
       "</style>\n",
       "<table border=\"1\" class=\"dataframe\">\n",
       "  <thead>\n",
       "    <tr style=\"text-align: right;\">\n",
       "      <th></th>\n",
       "      <th>Price</th>\n",
       "      <th>Kilometer_Driven</th>\n",
       "      <th>Owner</th>\n",
       "      <th>Fuel_type</th>\n",
       "      <th>Manufacture_Year</th>\n",
       "      <th>Car_Brand</th>\n",
       "      <th>Car_Model</th>\n",
       "    </tr>\n",
       "  </thead>\n",
       "  <tbody>\n",
       "    <tr>\n",
       "      <th>count</th>\n",
       "      <td>5000.000000</td>\n",
       "      <td>5000.000000</td>\n",
       "      <td>5000.000000</td>\n",
       "      <td>5000.00000</td>\n",
       "      <td>5000.000000</td>\n",
       "      <td>5000.000000</td>\n",
       "      <td>5000.000000</td>\n",
       "    </tr>\n",
       "    <tr>\n",
       "      <th>mean</th>\n",
       "      <td>361684.000000</td>\n",
       "      <td>14917.600000</td>\n",
       "      <td>0.050000</td>\n",
       "      <td>0.90000</td>\n",
       "      <td>5.050000</td>\n",
       "      <td>0.850000</td>\n",
       "      <td>2.000000</td>\n",
       "    </tr>\n",
       "    <tr>\n",
       "      <th>std</th>\n",
       "      <td>148639.769346</td>\n",
       "      <td>10743.168433</td>\n",
       "      <td>0.217967</td>\n",
       "      <td>0.30003</td>\n",
       "      <td>3.008207</td>\n",
       "      <td>0.477017</td>\n",
       "      <td>2.345442</td>\n",
       "    </tr>\n",
       "    <tr>\n",
       "      <th>min</th>\n",
       "      <td>150899.000000</td>\n",
       "      <td>2589.000000</td>\n",
       "      <td>0.000000</td>\n",
       "      <td>0.00000</td>\n",
       "      <td>0.000000</td>\n",
       "      <td>0.000000</td>\n",
       "      <td>0.000000</td>\n",
       "    </tr>\n",
       "    <tr>\n",
       "      <th>25%</th>\n",
       "      <td>269524.000000</td>\n",
       "      <td>9154.500000</td>\n",
       "      <td>0.000000</td>\n",
       "      <td>1.00000</td>\n",
       "      <td>2.750000</td>\n",
       "      <td>1.000000</td>\n",
       "      <td>0.000000</td>\n",
       "    </tr>\n",
       "    <tr>\n",
       "      <th>50%</th>\n",
       "      <td>311999.000000</td>\n",
       "      <td>10988.000000</td>\n",
       "      <td>0.000000</td>\n",
       "      <td>1.00000</td>\n",
       "      <td>5.000000</td>\n",
       "      <td>1.000000</td>\n",
       "      <td>0.500000</td>\n",
       "    </tr>\n",
       "    <tr>\n",
       "      <th>75%</th>\n",
       "      <td>427049.000000</td>\n",
       "      <td>17405.750000</td>\n",
       "      <td>0.000000</td>\n",
       "      <td>1.00000</td>\n",
       "      <td>7.250000</td>\n",
       "      <td>1.000000</td>\n",
       "      <td>4.000000</td>\n",
       "    </tr>\n",
       "    <tr>\n",
       "      <th>max</th>\n",
       "      <td>807999.000000</td>\n",
       "      <td>48254.000000</td>\n",
       "      <td>1.000000</td>\n",
       "      <td>1.00000</td>\n",
       "      <td>10.000000</td>\n",
       "      <td>2.000000</td>\n",
       "      <td>7.000000</td>\n",
       "    </tr>\n",
       "  </tbody>\n",
       "</table>\n",
       "</div>"
      ],
      "text/plain": [
       "               Price  Kilometer_Driven        Owner   Fuel_type  \\\n",
       "count    5000.000000       5000.000000  5000.000000  5000.00000   \n",
       "mean   361684.000000      14917.600000     0.050000     0.90000   \n",
       "std    148639.769346      10743.168433     0.217967     0.30003   \n",
       "min    150899.000000       2589.000000     0.000000     0.00000   \n",
       "25%    269524.000000       9154.500000     0.000000     1.00000   \n",
       "50%    311999.000000      10988.000000     0.000000     1.00000   \n",
       "75%    427049.000000      17405.750000     0.000000     1.00000   \n",
       "max    807999.000000      48254.000000     1.000000     1.00000   \n",
       "\n",
       "       Manufacture_Year    Car_Brand    Car_Model  \n",
       "count       5000.000000  5000.000000  5000.000000  \n",
       "mean           5.050000     0.850000     2.000000  \n",
       "std            3.008207     0.477017     2.345442  \n",
       "min            0.000000     0.000000     0.000000  \n",
       "25%            2.750000     1.000000     0.000000  \n",
       "50%            5.000000     1.000000     0.500000  \n",
       "75%            7.250000     1.000000     4.000000  \n",
       "max           10.000000     2.000000     7.000000  "
      ]
     },
     "execution_count": 127,
     "metadata": {},
     "output_type": "execute_result"
    }
   ],
   "source": [
    "df.describe()"
   ]
  },
  {
   "cell_type": "code",
   "execution_count": 128,
   "metadata": {},
   "outputs": [
    {
     "data": {
      "image/png": "[encoded data removed]",
      "text/plain": [
       "<Figure size 1080x864 with 2 Axes>"
      ]
     },
     "metadata": {
      "needs_background": "light"
     },
     "output_type": "display_data"
    }
   ],
   "source": [
    "plt.figure(figsize=(15,12))\n",
    "sns.heatmap(round(df.describe()[1:].transpose(),2), linewidth=2, annot=True,fmt=\"f\")\n",
    "plt.xticks(fontsize=18)\n",
    "plt.yticks(fontsize=12)\n",
    "plt.title(\"variables Summary\")\n",
    "plt.show()"
   ]
  },
  {
   "cell_type": "markdown",
   "metadata": {},
   "source": [
    "# To check the Correlation"
   ]
  },
  {
   "cell_type": "code",
   "execution_count": 129,
   "metadata": {},
   "outputs": [
    {
     "data": {
      "text/html": [
       "<div>\n",
       "<style scoped>\n",
       "    .dataframe tbody tr th:only-of-type {\n",
       "        vertical-align: middle;\n",
       "    }\n",
       "\n",
       "    .dataframe tbody tr th {\n",
       "        vertical-align: top;\n",
       "    }\n",
       "\n",
       "    .dataframe thead th {\n",
       "        text-align: right;\n",
       "    }\n",
       "</style>\n",
       "<table border=\"1\" class=\"dataframe\">\n",
       "  <thead>\n",
       "    <tr style=\"text-align: right;\">\n",
       "      <th></th>\n",
       "      <th>Price</th>\n",
       "      <th>Kilometer_Driven</th>\n",
       "      <th>Owner</th>\n",
       "      <th>Fuel_type</th>\n",
       "      <th>Manufacture_Year</th>\n",
       "      <th>Car_Brand</th>\n",
       "      <th>Car_Model</th>\n",
       "    </tr>\n",
       "  </thead>\n",
       "  <tbody>\n",
       "    <tr>\n",
       "      <th>Price</th>\n",
       "      <td>1.000000</td>\n",
       "      <td>-0.629156</td>\n",
       "      <td>-0.133652</td>\n",
       "      <td>-0.033227</td>\n",
       "      <td>0.697821</td>\n",
       "      <td>-0.452637</td>\n",
       "      <td>0.739464</td>\n",
       "    </tr>\n",
       "    <tr>\n",
       "      <th>Kilometer_Driven</th>\n",
       "      <td>-0.629156</td>\n",
       "      <td>1.000000</td>\n",
       "      <td>-0.047873</td>\n",
       "      <td>-0.050809</td>\n",
       "      <td>-0.770357</td>\n",
       "      <td>0.158166</td>\n",
       "      <td>-0.244710</td>\n",
       "    </tr>\n",
       "    <tr>\n",
       "      <th>Owner</th>\n",
       "      <td>-0.133652</td>\n",
       "      <td>-0.047873</td>\n",
       "      <td>1.000000</td>\n",
       "      <td>0.076472</td>\n",
       "      <td>0.148728</td>\n",
       "      <td>0.072148</td>\n",
       "      <td>-0.195646</td>\n",
       "    </tr>\n",
       "    <tr>\n",
       "      <th>Fuel_type</th>\n",
       "      <td>-0.033227</td>\n",
       "      <td>-0.050809</td>\n",
       "      <td>0.076472</td>\n",
       "      <td>1.000000</td>\n",
       "      <td>0.116360</td>\n",
       "      <td>-0.104828</td>\n",
       "      <td>-0.355335</td>\n",
       "    </tr>\n",
       "    <tr>\n",
       "      <th>Manufacture_Year</th>\n",
       "      <td>0.697821</td>\n",
       "      <td>-0.770357</td>\n",
       "      <td>0.148728</td>\n",
       "      <td>0.116360</td>\n",
       "      <td>1.000000</td>\n",
       "      <td>-0.238729</td>\n",
       "      <td>0.219728</td>\n",
       "    </tr>\n",
       "    <tr>\n",
       "      <th>Car_Brand</th>\n",
       "      <td>-0.452637</td>\n",
       "      <td>0.158166</td>\n",
       "      <td>0.072148</td>\n",
       "      <td>-0.104828</td>\n",
       "      <td>-0.238729</td>\n",
       "      <td>1.000000</td>\n",
       "      <td>-0.134097</td>\n",
       "    </tr>\n",
       "    <tr>\n",
       "      <th>Car_Model</th>\n",
       "      <td>0.739464</td>\n",
       "      <td>-0.244710</td>\n",
       "      <td>-0.195646</td>\n",
       "      <td>-0.355335</td>\n",
       "      <td>0.219728</td>\n",
       "      <td>-0.134097</td>\n",
       "      <td>1.000000</td>\n",
       "    </tr>\n",
       "  </tbody>\n",
       "</table>\n",
       "</div>"
      ],
      "text/plain": [
       "                     Price  Kilometer_Driven     Owner  Fuel_type  \\\n",
       "Price             1.000000         -0.629156 -0.133652  -0.033227   \n",
       "Kilometer_Driven -0.629156          1.000000 -0.047873  -0.050809   \n",
       "Owner            -0.133652         -0.047873  1.000000   0.076472   \n",
       "Fuel_type        -0.033227         -0.050809  0.076472   1.000000   \n",
       "Manufacture_Year  0.697821         -0.770357  0.148728   0.116360   \n",
       "Car_Brand        -0.452637          0.158166  0.072148  -0.104828   \n",
       "Car_Model         0.739464         -0.244710 -0.195646  -0.355335   \n",
       "\n",
       "                  Manufacture_Year  Car_Brand  Car_Model  \n",
       "Price                     0.697821  -0.452637   0.739464  \n",
       "Kilometer_Driven         -0.770357   0.158166  -0.244710  \n",
       "Owner                     0.148728   0.072148  -0.195646  \n",
       "Fuel_type                 0.116360  -0.104828  -0.355335  \n",
       "Manufacture_Year          1.000000  -0.238729   0.219728  \n",
       "Car_Brand                -0.238729   1.000000  -0.134097  \n",
       "Car_Model                 0.219728  -0.134097   1.000000  "
      ]
     },
     "execution_count": 129,
     "metadata": {},
     "output_type": "execute_result"
    }
   ],
   "source": [
    "df.corr()"
   ]
  },
  {
   "cell_type": "code",
   "execution_count": 130,
   "metadata": {},
   "outputs": [
    {
     "data": {
      "text/plain": [
       "<matplotlib.axes._subplots.AxesSubplot at 0x1aa8a6c5fa0>"
      ]
     },
     "execution_count": 130,
     "metadata": {},
     "output_type": "execute_result"
    },
    {
     "data": {
      "image/png": "[encoded data removed]",
      "text/plain": [
       "<Figure size 1296x720 with 2 Axes>"
      ]
     },
     "metadata": {
      "needs_background": "light"
     },
     "output_type": "display_data"
    }
   ],
   "source": [
    "plt.figure(figsize=(18,10))\n",
    "sns.heatmap(df.corr(),annot=True,cmap='twilight_r')"
   ]
  },
  {
   "cell_type": "code",
   "execution_count": 131,
   "metadata": {},
   "outputs": [
    {
     "data": {
      "text/plain": [
       "Text(0.5, 1.0, 'Correlation with Target Variable')"
      ]
     },
     "execution_count": 131,
     "metadata": {},
     "output_type": "execute_result"
    },
    {
     "data": {
      "image/png": "[encoded data removed]",
      "text/plain": [
       "<Figure size 720x432 with 1 Axes>"
      ]
     },
     "metadata": {
      "needs_background": "light"
     },
     "output_type": "display_data"
    }
   ],
   "source": [
    "#checking the correlation with target Variable\n",
    "plt.figure(figsize=(10,6))\n",
    "df.drop('Price',axis=1).corrwith(df['Price']).plot(kind='bar', grid=True)\n",
    "plt.xticks(rotation=20)\n",
    "plt.title(\"Correlation with Target Variable\")"
   ]
  },
  {
   "cell_type": "code",
   "execution_count": 132,
   "metadata": {},
   "outputs": [
    {
     "data": {
      "image/png": "[encoded data removed]",
      "text/plain": [
       "<Figure size 1260x1260 with 56 Axes>"
      ]
     },
     "metadata": {
      "needs_background": "light"
     },
     "output_type": "display_data"
    }
   ],
   "source": [
    " #Let us observe correlation among these selected features\n",
    "sns.pairplot(df , palette=\"dark green\")\n",
    "plt.show()"
   ]
  },
  {
   "cell_type": "markdown",
   "metadata": {},
   "source": [
    "# checking Outliers and Skewness"
   ]
  },
  {
   "cell_type": "code",
   "execution_count": 133,
   "metadata": {},
   "outputs": [
    {
     "data": {
      "image/png": "[encoded data removed]",
      "text/plain": [
       "<Figure size 2160x6480 with 7 Axes>"
      ]
     },
     "metadata": {
      "needs_background": "light"
     },
     "output_type": "display_data"
    }
   ],
   "source": [
    "collist=df.columns.values\n",
    "ncol=30\n",
    "nrows=14\n",
    "plt.figure(figsize=(ncol,3*ncol))\n",
    "for i in range (0, len(collist)):\n",
    "    plt.subplot(nrows,ncol,i+1)\n",
    "    sns.boxplot(df[collist[i]],color='Blue',orient='v')\n",
    "    plt.tight_layout()"
   ]
  },
  {
   "cell_type": "code",
   "execution_count": 134,
   "metadata": {},
   "outputs": [
    {
     "data": {
      "text/plain": [
       "Price               1.245868\n",
       "Kilometer_Driven    1.609216\n",
       "Owner               4.130723\n",
       "Fuel_type          -2.667467\n",
       "Manufacture_Year   -0.147294\n",
       "Car_Brand          -0.407917\n",
       "Car_Model           0.697957\n",
       "dtype: float64"
      ]
     },
     "execution_count": 134,
     "metadata": {},
     "output_type": "execute_result"
    }
   ],
   "source": [
    "# Check Skewness \n",
    "\n",
    "df.skew()"
   ]
  },
  {
   "cell_type": "markdown",
   "metadata": {},
   "source": [
    "# Remove Skewness and Outliers"
   ]
  },
  {
   "cell_type": "code",
   "execution_count": 135,
   "metadata": {
    "scrolled": false
   },
   "outputs": [
    {
     "name": "stdout",
     "output_type": "stream",
     "text": [
      "(array([   0,    9,   15,   20,   29,   35,   40,   49,   55,   60,   69,\n",
      "         75,   80,   89,   95,  100,  109,  115,  120,  129,  135,  140,\n",
      "        149,  155,  160,  169,  175,  180,  189,  195,  200,  209,  215,\n",
      "        220,  229,  235,  240,  249,  255,  260,  269,  275,  280,  289,\n",
      "        295,  300,  309,  315,  320,  329,  335,  340,  349,  355,  360,\n",
      "        369,  375,  380,  389,  395,  400,  409,  415,  420,  429,  435,\n",
      "        440,  449,  455,  460,  469,  475,  480,  489,  495,  500,  509,\n",
      "        515,  520,  529,  535,  540,  549,  555,  560,  569,  575,  580,\n",
      "        589,  595,  600,  609,  615,  620,  629,  635,  640,  649,  655,\n",
      "        660,  669,  675,  680,  689,  695,  700,  709,  715,  720,  729,\n",
      "        735,  740,  749,  755,  760,  769,  775,  780,  789,  795,  800,\n",
      "        809,  815,  820,  829,  835,  840,  849,  855,  860,  869,  875,\n",
      "        880,  889,  895,  900,  909,  915,  920,  929,  935,  940,  949,\n",
      "        955,  960,  969,  975,  980,  989,  995, 1000, 1009, 1015, 1020,\n",
      "       1029, 1035, 1040, 1049, 1055, 1060, 1069, 1075, 1080, 1089, 1095,\n",
      "       1100, 1109, 1115, 1120, 1129, 1135, 1140, 1149, 1155, 1160, 1169,\n",
      "       1175, 1180, 1189, 1195, 1200, 1209, 1215, 1220, 1229, 1235, 1240,\n",
      "       1249, 1255, 1260, 1269, 1275, 1280, 1289, 1295, 1300, 1309, 1315,\n",
      "       1320, 1329, 1335, 1340, 1349, 1355, 1360, 1369, 1375, 1380, 1389,\n",
      "       1395, 1400, 1409, 1415, 1420, 1429, 1435, 1440, 1449, 1455, 1460,\n",
      "       1469, 1475, 1480, 1489, 1495, 1500, 1509, 1515, 1520, 1529, 1535,\n",
      "       1540, 1549, 1555, 1560, 1569, 1575, 1580, 1589, 1595, 1600, 1609,\n",
      "       1615, 1620, 1629, 1635, 1640, 1649, 1655, 1660, 1669, 1675, 1680,\n",
      "       1689, 1695, 1700, 1709, 1715, 1720, 1729, 1735, 1740, 1749, 1755,\n",
      "       1760, 1769, 1775, 1780, 1789, 1795, 1800, 1809, 1815, 1820, 1829,\n",
      "       1835, 1840, 1849, 1855, 1860, 1869, 1875, 1880, 1889, 1895, 1900,\n",
      "       1909, 1915, 1920, 1929, 1935, 1940, 1949, 1955, 1960, 1969, 1975,\n",
      "       1980, 1989, 1995, 2000, 2009, 2015, 2020, 2029, 2035, 2040, 2049,\n",
      "       2055, 2060, 2069, 2075, 2080, 2089, 2095, 2100, 2109, 2115, 2120,\n",
      "       2129, 2135, 2140, 2149, 2155, 2160, 2169, 2175, 2180, 2189, 2195,\n",
      "       2200, 2209, 2215, 2220, 2229, 2235, 2240, 2249, 2255, 2260, 2269,\n",
      "       2275, 2280, 2289, 2295, 2300, 2309, 2315, 2320, 2329, 2335, 2340,\n",
      "       2349, 2355, 2360, 2369, 2375, 2380, 2389, 2395, 2400, 2409, 2415,\n",
      "       2420, 2429, 2435, 2440, 2449, 2455, 2460, 2469, 2475, 2480, 2489,\n",
      "       2495, 2500, 2509, 2515, 2520, 2529, 2535, 2540, 2549, 2555, 2560,\n",
      "       2569, 2575, 2580, 2589, 2595, 2600, 2609, 2615, 2620, 2629, 2635,\n",
      "       2640, 2649, 2655, 2660, 2669, 2675, 2680, 2689, 2695, 2700, 2709,\n",
      "       2715, 2720, 2729, 2735, 2740, 2749, 2755, 2760, 2769, 2775, 2780,\n",
      "       2789, 2795, 2800, 2809, 2815, 2820, 2829, 2835, 2840, 2849, 2855,\n",
      "       2860, 2869, 2875, 2880, 2889, 2895, 2900, 2909, 2915, 2920, 2929,\n",
      "       2935, 2940, 2949, 2955, 2960, 2969, 2975, 2980, 2989, 2995, 3000,\n",
      "       3009, 3015, 3020, 3029, 3035, 3040, 3049, 3055, 3060, 3069, 3075,\n",
      "       3080, 3089, 3095, 3100, 3109, 3115, 3120, 3129, 3135, 3140, 3149,\n",
      "       3155, 3160, 3169, 3175, 3180, 3189, 3195, 3200, 3209, 3215, 3220,\n",
      "       3229, 3235, 3240, 3249, 3255, 3260, 3269, 3275, 3280, 3289, 3295,\n",
      "       3300, 3309, 3315, 3320, 3329, 3335, 3340, 3349, 3355, 3360, 3369,\n",
      "       3375, 3380, 3389, 3395, 3400, 3409, 3415, 3420, 3429, 3435, 3440,\n",
      "       3449, 3455, 3460, 3469, 3475, 3480, 3489, 3495, 3500, 3509, 3515,\n",
      "       3520, 3529, 3535, 3540, 3549, 3555, 3560, 3569, 3575, 3580, 3589,\n",
      "       3595, 3600, 3609, 3615, 3620, 3629, 3635, 3640, 3649, 3655, 3660,\n",
      "       3669, 3675, 3680, 3689, 3695, 3700, 3709, 3715, 3720, 3729, 3735,\n",
      "       3740, 3749, 3755, 3760, 3769, 3775, 3780, 3789, 3795, 3800, 3809,\n",
      "       3815, 3820, 3829, 3835, 3840, 3849, 3855, 3860, 3869, 3875, 3880,\n",
      "       3889, 3895, 3900, 3909, 3915, 3920, 3929, 3935, 3940, 3949, 3955,\n",
      "       3960, 3969, 3975, 3980, 3989, 3995, 4000, 4009, 4015, 4020, 4029,\n",
      "       4035, 4040, 4049, 4055, 4060, 4069, 4075, 4080, 4089, 4095, 4100,\n",
      "       4109, 4115, 4120, 4129, 4135, 4140, 4149, 4155, 4160, 4169, 4175,\n",
      "       4180, 4189, 4195, 4200, 4209, 4215, 4220, 4229, 4235, 4240, 4249,\n",
      "       4255, 4260, 4269, 4275, 4280, 4289, 4295, 4300, 4309, 4315, 4320,\n",
      "       4329, 4335, 4340, 4349, 4355, 4360, 4369, 4375, 4380, 4389, 4395,\n",
      "       4400, 4409, 4415, 4420, 4429, 4435, 4440, 4449, 4455, 4460, 4469,\n",
      "       4475, 4480, 4489, 4495, 4500, 4509, 4515, 4520, 4529, 4535, 4540,\n",
      "       4549, 4555, 4560, 4569, 4575, 4580, 4589, 4595, 4600, 4609, 4615,\n",
      "       4620, 4629, 4635, 4640, 4649, 4655, 4660, 4669, 4675, 4680, 4689,\n",
      "       4695, 4700, 4709, 4715, 4720, 4729, 4735, 4740, 4749, 4755, 4760,\n",
      "       4769, 4775, 4780, 4789, 4795, 4800, 4809, 4815, 4820, 4829, 4835,\n",
      "       4840, 4849, 4855, 4860, 4869, 4875, 4880, 4889, 4895, 4900, 4909,\n",
      "       4915, 4920, 4929, 4935, 4940, 4949, 4955, 4960, 4969, 4975, 4980,\n",
      "       4989, 4995], dtype=int64), array([0, 2, 1, 0, 2, 1, 0, 2, 1, 0, 2, 1, 0, 2, 1, 0, 2, 1, 0, 2, 1, 0,\n",
      "       2, 1, 0, 2, 1, 0, 2, 1, 0, 2, 1, 0, 2, 1, 0, 2, 1, 0, 2, 1, 0, 2,\n",
      "       1, 0, 2, 1, 0, 2, 1, 0, 2, 1, 0, 2, 1, 0, 2, 1, 0, 2, 1, 0, 2, 1,\n",
      "       0, 2, 1, 0, 2, 1, 0, 2, 1, 0, 2, 1, 0, 2, 1, 0, 2, 1, 0, 2, 1, 0,\n",
      "       2, 1, 0, 2, 1, 0, 2, 1, 0, 2, 1, 0, 2, 1, 0, 2, 1, 0, 2, 1, 0, 2,\n",
      "       1, 0, 2, 1, 0, 2, 1, 0, 2, 1, 0, 2, 1, 0, 2, 1, 0, 2, 1, 0, 2, 1,\n",
      "       0, 2, 1, 0, 2, 1, 0, 2, 1, 0, 2, 1, 0, 2, 1, 0, 2, 1, 0, 2, 1, 0,\n",
      "       2, 1, 0, 2, 1, 0, 2, 1, 0, 2, 1, 0, 2, 1, 0, 2, 1, 0, 2, 1, 0, 2,\n",
      "       1, 0, 2, 1, 0, 2, 1, 0, 2, 1, 0, 2, 1, 0, 2, 1, 0, 2, 1, 0, 2, 1,\n",
      "       0, 2, 1, 0, 2, 1, 0, 2, 1, 0, 2, 1, 0, 2, 1, 0, 2, 1, 0, 2, 1, 0,\n",
      "       2, 1, 0, 2, 1, 0, 2, 1, 0, 2, 1, 0, 2, 1, 0, 2, 1, 0, 2, 1, 0, 2,\n",
      "       1, 0, 2, 1, 0, 2, 1, 0, 2, 1, 0, 2, 1, 0, 2, 1, 0, 2, 1, 0, 2, 1,\n",
      "       0, 2, 1, 0, 2, 1, 0, 2, 1, 0, 2, 1, 0, 2, 1, 0, 2, 1, 0, 2, 1, 0,\n",
      "       2, 1, 0, 2, 1, 0, 2, 1, 0, 2, 1, 0, 2, 1, 0, 2, 1, 0, 2, 1, 0, 2,\n",
      "       1, 0, 2, 1, 0, 2, 1, 0, 2, 1, 0, 2, 1, 0, 2, 1, 0, 2, 1, 0, 2, 1,\n",
      "       0, 2, 1, 0, 2, 1, 0, 2, 1, 0, 2, 1, 0, 2, 1, 0, 2, 1, 0, 2, 1, 0,\n",
      "       2, 1, 0, 2, 1, 0, 2, 1, 0, 2, 1, 0, 2, 1, 0, 2, 1, 0, 2, 1, 0, 2,\n",
      "       1, 0, 2, 1, 0, 2, 1, 0, 2, 1, 0, 2, 1, 0, 2, 1, 0, 2, 1, 0, 2, 1,\n",
      "       0, 2, 1, 0, 2, 1, 0, 2, 1, 0, 2, 1, 0, 2, 1, 0, 2, 1, 0, 2, 1, 0,\n",
      "       2, 1, 0, 2, 1, 0, 2, 1, 0, 2, 1, 0, 2, 1, 0, 2, 1, 0, 2, 1, 0, 2,\n",
      "       1, 0, 2, 1, 0, 2, 1, 0, 2, 1, 0, 2, 1, 0, 2, 1, 0, 2, 1, 0, 2, 1,\n",
      "       0, 2, 1, 0, 2, 1, 0, 2, 1, 0, 2, 1, 0, 2, 1, 0, 2, 1, 0, 2, 1, 0,\n",
      "       2, 1, 0, 2, 1, 0, 2, 1, 0, 2, 1, 0, 2, 1, 0, 2, 1, 0, 2, 1, 0, 2,\n",
      "       1, 0, 2, 1, 0, 2, 1, 0, 2, 1, 0, 2, 1, 0, 2, 1, 0, 2, 1, 0, 2, 1,\n",
      "       0, 2, 1, 0, 2, 1, 0, 2, 1, 0, 2, 1, 0, 2, 1, 0, 2, 1, 0, 2, 1, 0,\n",
      "       2, 1, 0, 2, 1, 0, 2, 1, 0, 2, 1, 0, 2, 1, 0, 2, 1, 0, 2, 1, 0, 2,\n",
      "       1, 0, 2, 1, 0, 2, 1, 0, 2, 1, 0, 2, 1, 0, 2, 1, 0, 2, 1, 0, 2, 1,\n",
      "       0, 2, 1, 0, 2, 1, 0, 2, 1, 0, 2, 1, 0, 2, 1, 0, 2, 1, 0, 2, 1, 0,\n",
      "       2, 1, 0, 2, 1, 0, 2, 1, 0, 2, 1, 0, 2, 1, 0, 2, 1, 0, 2, 1, 0, 2,\n",
      "       1, 0, 2, 1, 0, 2, 1, 0, 2, 1, 0, 2, 1, 0, 2, 1, 0, 2, 1, 0, 2, 1,\n",
      "       0, 2, 1, 0, 2, 1, 0, 2, 1, 0, 2, 1, 0, 2, 1, 0, 2, 1, 0, 2, 1, 0,\n",
      "       2, 1, 0, 2, 1, 0, 2, 1, 0, 2, 1, 0, 2, 1, 0, 2, 1, 0, 2, 1, 0, 2,\n",
      "       1, 0, 2, 1, 0, 2, 1, 0, 2, 1, 0, 2, 1, 0, 2, 1, 0, 2, 1, 0, 2, 1,\n",
      "       0, 2, 1, 0, 2, 1, 0, 2, 1, 0, 2, 1, 0, 2, 1, 0, 2, 1, 0, 2, 1, 0,\n",
      "       2, 1], dtype=int64))\n"
     ]
    },
    {
     "data": {
      "text/plain": [
       "array([[3.0029624 , 1.14769056, 0.22941573, ..., 1.64566299, 1.78208422,\n",
       "        2.13200716],\n",
       "       [0.11313716, 0.36292738, 0.22941573, ..., 0.6815372 , 0.31448545,\n",
       "        1.2792043 ],\n",
       "       [0.80864644, 0.55395158, 0.22941573, ..., 0.6815372 , 0.31448545,\n",
       "        0.85280287],\n",
       "       ...,\n",
       "       [0.73261611, 1.10056754, 0.22941573, ..., 1.67890871, 0.31448545,\n",
       "        0.85280287],\n",
       "       [1.0840377 , 0.91635764, 0.22941573, ..., 1.31320582, 2.41105512,\n",
       "        1.70560573],\n",
       "       [0.40582028, 0.08624017, 0.22941573, ..., 0.31583431, 1.78208422,\n",
       "        0.42640143]])"
      ]
     },
     "execution_count": 135,
     "metadata": {},
     "output_type": "execute_result"
    }
   ],
   "source": [
    "from scipy.stats import zscore\n",
    "z=np.abs(zscore(df))\n",
    "threshold=3\n",
    "print(np.where(z>3))\n",
    "z"
   ]
  },
  {
   "cell_type": "code",
   "execution_count": 136,
   "metadata": {},
   "outputs": [],
   "source": [
    "df_new=df[(z<3).all(axis=1)]"
   ]
  },
  {
   "cell_type": "code",
   "execution_count": 137,
   "metadata": {},
   "outputs": [
    {
     "data": {
      "text/html": [
       "<div>\n",
       "<style scoped>\n",
       "    .dataframe tbody tr th:only-of-type {\n",
       "        vertical-align: middle;\n",
       "    }\n",
       "\n",
       "    .dataframe tbody tr th {\n",
       "        vertical-align: top;\n",
       "    }\n",
       "\n",
       "    .dataframe thead th {\n",
       "        text-align: right;\n",
       "    }\n",
       "</style>\n",
       "<table border=\"1\" class=\"dataframe\">\n",
       "  <thead>\n",
       "    <tr style=\"text-align: right;\">\n",
       "      <th></th>\n",
       "      <th>Price</th>\n",
       "      <th>Kilometer_Driven</th>\n",
       "      <th>Owner</th>\n",
       "      <th>Fuel_type</th>\n",
       "      <th>Manufacture_Year</th>\n",
       "      <th>Car_Brand</th>\n",
       "      <th>Car_Model</th>\n",
       "    </tr>\n",
       "  </thead>\n",
       "  <tbody>\n",
       "    <tr>\n",
       "      <th>2</th>\n",
       "      <td>241499</td>\n",
       "      <td>8967</td>\n",
       "      <td>0</td>\n",
       "      <td>1</td>\n",
       "      <td>3</td>\n",
       "      <td>1</td>\n",
       "      <td>0</td>\n",
       "    </tr>\n",
       "    <tr>\n",
       "      <th>3</th>\n",
       "      <td>300099</td>\n",
       "      <td>12535</td>\n",
       "      <td>0</td>\n",
       "      <td>1</td>\n",
       "      <td>4</td>\n",
       "      <td>1</td>\n",
       "      <td>0</td>\n",
       "    </tr>\n",
       "    <tr>\n",
       "      <th>4</th>\n",
       "      <td>453499</td>\n",
       "      <td>15538</td>\n",
       "      <td>0</td>\n",
       "      <td>1</td>\n",
       "      <td>2</td>\n",
       "      <td>1</td>\n",
       "      <td>5</td>\n",
       "    </tr>\n",
       "    <tr>\n",
       "      <th>5</th>\n",
       "      <td>308899</td>\n",
       "      <td>10957</td>\n",
       "      <td>0</td>\n",
       "      <td>1</td>\n",
       "      <td>5</td>\n",
       "      <td>1</td>\n",
       "      <td>0</td>\n",
       "    </tr>\n",
       "    <tr>\n",
       "      <th>6</th>\n",
       "      <td>180699</td>\n",
       "      <td>32356</td>\n",
       "      <td>0</td>\n",
       "      <td>1</td>\n",
       "      <td>2</td>\n",
       "      <td>1</td>\n",
       "      <td>0</td>\n",
       "    </tr>\n",
       "    <tr>\n",
       "      <th>...</th>\n",
       "      <td>...</td>\n",
       "      <td>...</td>\n",
       "      <td>...</td>\n",
       "      <td>...</td>\n",
       "      <td>...</td>\n",
       "      <td>...</td>\n",
       "      <td>...</td>\n",
       "    </tr>\n",
       "    <tr>\n",
       "      <th>4994</th>\n",
       "      <td>577399</td>\n",
       "      <td>5937</td>\n",
       "      <td>0</td>\n",
       "      <td>1</td>\n",
       "      <td>8</td>\n",
       "      <td>0</td>\n",
       "      <td>2</td>\n",
       "    </tr>\n",
       "    <tr>\n",
       "      <th>4996</th>\n",
       "      <td>295599</td>\n",
       "      <td>9217</td>\n",
       "      <td>0</td>\n",
       "      <td>1</td>\n",
       "      <td>5</td>\n",
       "      <td>1</td>\n",
       "      <td>0</td>\n",
       "    </tr>\n",
       "    <tr>\n",
       "      <th>4997</th>\n",
       "      <td>252799</td>\n",
       "      <td>26740</td>\n",
       "      <td>0</td>\n",
       "      <td>1</td>\n",
       "      <td>0</td>\n",
       "      <td>1</td>\n",
       "      <td>4</td>\n",
       "    </tr>\n",
       "    <tr>\n",
       "      <th>4998</th>\n",
       "      <td>522799</td>\n",
       "      <td>5074</td>\n",
       "      <td>0</td>\n",
       "      <td>1</td>\n",
       "      <td>9</td>\n",
       "      <td>2</td>\n",
       "      <td>6</td>\n",
       "    </tr>\n",
       "    <tr>\n",
       "      <th>4999</th>\n",
       "      <td>421999</td>\n",
       "      <td>15844</td>\n",
       "      <td>0</td>\n",
       "      <td>1</td>\n",
       "      <td>6</td>\n",
       "      <td>0</td>\n",
       "      <td>3</td>\n",
       "    </tr>\n",
       "  </tbody>\n",
       "</table>\n",
       "<p>3750 rows × 7 columns</p>\n",
       "</div>"
      ],
      "text/plain": [
       "       Price  Kilometer_Driven  Owner  Fuel_type  Manufacture_Year  Car_Brand  \\\n",
       "2     241499              8967      0          1                 3          1   \n",
       "3     300099             12535      0          1                 4          1   \n",
       "4     453499             15538      0          1                 2          1   \n",
       "5     308899             10957      0          1                 5          1   \n",
       "6     180699             32356      0          1                 2          1   \n",
       "...      ...               ...    ...        ...               ...        ...   \n",
       "4994  577399              5937      0          1                 8          0   \n",
       "4996  295599              9217      0          1                 5          1   \n",
       "4997  252799             26740      0          1                 0          1   \n",
       "4998  522799              5074      0          1                 9          2   \n",
       "4999  421999             15844      0          1                 6          0   \n",
       "\n",
       "      Car_Model  \n",
       "2             0  \n",
       "3             0  \n",
       "4             5  \n",
       "5             0  \n",
       "6             0  \n",
       "...         ...  \n",
       "4994          2  \n",
       "4996          0  \n",
       "4997          4  \n",
       "4998          6  \n",
       "4999          3  \n",
       "\n",
       "[3750 rows x 7 columns]"
      ]
     },
     "execution_count": 137,
     "metadata": {},
     "output_type": "execute_result"
    }
   ],
   "source": [
    "df_new"
   ]
  },
  {
   "cell_type": "markdown",
   "metadata": {},
   "source": [
    "# Model Training"
   ]
  },
  {
   "cell_type": "code",
   "execution_count": 138,
   "metadata": {},
   "outputs": [],
   "source": [
    "x=df.drop(columns=['Price'],axis=1)"
   ]
  },
  {
   "cell_type": "code",
   "execution_count": 139,
   "metadata": {},
   "outputs": [
    {
     "data": {
      "text/html": [
       "<div>\n",
       "<style scoped>\n",
       "    .dataframe tbody tr th:only-of-type {\n",
       "        vertical-align: middle;\n",
       "    }\n",
       "\n",
       "    .dataframe tbody tr th {\n",
       "        vertical-align: top;\n",
       "    }\n",
       "\n",
       "    .dataframe thead th {\n",
       "        text-align: right;\n",
       "    }\n",
       "</style>\n",
       "<table border=\"1\" class=\"dataframe\">\n",
       "  <thead>\n",
       "    <tr style=\"text-align: right;\">\n",
       "      <th></th>\n",
       "      <th>Kilometer_Driven</th>\n",
       "      <th>Owner</th>\n",
       "      <th>Fuel_type</th>\n",
       "      <th>Manufacture_Year</th>\n",
       "      <th>Car_Brand</th>\n",
       "      <th>Car_Model</th>\n",
       "    </tr>\n",
       "  </thead>\n",
       "  <tbody>\n",
       "    <tr>\n",
       "      <th>0</th>\n",
       "      <td>2589</td>\n",
       "      <td>0</td>\n",
       "      <td>1</td>\n",
       "      <td>10</td>\n",
       "      <td>0</td>\n",
       "      <td>7</td>\n",
       "    </tr>\n",
       "    <tr>\n",
       "      <th>1</th>\n",
       "      <td>11019</td>\n",
       "      <td>0</td>\n",
       "      <td>0</td>\n",
       "      <td>3</td>\n",
       "      <td>1</td>\n",
       "      <td>5</td>\n",
       "    </tr>\n",
       "    <tr>\n",
       "      <th>2</th>\n",
       "      <td>8967</td>\n",
       "      <td>0</td>\n",
       "      <td>1</td>\n",
       "      <td>3</td>\n",
       "      <td>1</td>\n",
       "      <td>0</td>\n",
       "    </tr>\n",
       "    <tr>\n",
       "      <th>3</th>\n",
       "      <td>12535</td>\n",
       "      <td>0</td>\n",
       "      <td>1</td>\n",
       "      <td>4</td>\n",
       "      <td>1</td>\n",
       "      <td>0</td>\n",
       "    </tr>\n",
       "    <tr>\n",
       "      <th>4</th>\n",
       "      <td>15538</td>\n",
       "      <td>0</td>\n",
       "      <td>1</td>\n",
       "      <td>2</td>\n",
       "      <td>1</td>\n",
       "      <td>5</td>\n",
       "    </tr>\n",
       "    <tr>\n",
       "      <th>...</th>\n",
       "      <td>...</td>\n",
       "      <td>...</td>\n",
       "      <td>...</td>\n",
       "      <td>...</td>\n",
       "      <td>...</td>\n",
       "      <td>...</td>\n",
       "    </tr>\n",
       "    <tr>\n",
       "      <th>4995</th>\n",
       "      <td>48254</td>\n",
       "      <td>0</td>\n",
       "      <td>1</td>\n",
       "      <td>0</td>\n",
       "      <td>1</td>\n",
       "      <td>0</td>\n",
       "    </tr>\n",
       "    <tr>\n",
       "      <th>4996</th>\n",
       "      <td>9217</td>\n",
       "      <td>0</td>\n",
       "      <td>1</td>\n",
       "      <td>5</td>\n",
       "      <td>1</td>\n",
       "      <td>0</td>\n",
       "    </tr>\n",
       "    <tr>\n",
       "      <th>4997</th>\n",
       "      <td>26740</td>\n",
       "      <td>0</td>\n",
       "      <td>1</td>\n",
       "      <td>0</td>\n",
       "      <td>1</td>\n",
       "      <td>4</td>\n",
       "    </tr>\n",
       "    <tr>\n",
       "      <th>4998</th>\n",
       "      <td>5074</td>\n",
       "      <td>0</td>\n",
       "      <td>1</td>\n",
       "      <td>9</td>\n",
       "      <td>2</td>\n",
       "      <td>6</td>\n",
       "    </tr>\n",
       "    <tr>\n",
       "      <th>4999</th>\n",
       "      <td>15844</td>\n",
       "      <td>0</td>\n",
       "      <td>1</td>\n",
       "      <td>6</td>\n",
       "      <td>0</td>\n",
       "      <td>3</td>\n",
       "    </tr>\n",
       "  </tbody>\n",
       "</table>\n",
       "<p>5000 rows × 6 columns</p>\n",
       "</div>"
      ],
      "text/plain": [
       "      Kilometer_Driven  Owner  Fuel_type  Manufacture_Year  Car_Brand  \\\n",
       "0                 2589      0          1                10          0   \n",
       "1                11019      0          0                 3          1   \n",
       "2                 8967      0          1                 3          1   \n",
       "3                12535      0          1                 4          1   \n",
       "4                15538      0          1                 2          1   \n",
       "...                ...    ...        ...               ...        ...   \n",
       "4995             48254      0          1                 0          1   \n",
       "4996              9217      0          1                 5          1   \n",
       "4997             26740      0          1                 0          1   \n",
       "4998              5074      0          1                 9          2   \n",
       "4999             15844      0          1                 6          0   \n",
       "\n",
       "      Car_Model  \n",
       "0             7  \n",
       "1             5  \n",
       "2             0  \n",
       "3             0  \n",
       "4             5  \n",
       "...         ...  \n",
       "4995          0  \n",
       "4996          0  \n",
       "4997          4  \n",
       "4998          6  \n",
       "4999          3  \n",
       "\n",
       "[5000 rows x 6 columns]"
      ]
     },
     "execution_count": 139,
     "metadata": {},
     "output_type": "execute_result"
    }
   ],
   "source": [
    "x"
   ]
  },
  {
   "cell_type": "code",
   "execution_count": 140,
   "metadata": {},
   "outputs": [],
   "source": [
    "y=df['Price']"
   ]
  },
  {
   "cell_type": "code",
   "execution_count": 141,
   "metadata": {},
   "outputs": [
    {
     "data": {
      "text/plain": [
       "0       807999\n",
       "1       378499\n",
       "2       241499\n",
       "3       300099\n",
       "4       453499\n",
       "         ...  \n",
       "4995    150899\n",
       "4996    295599\n",
       "4997    252799\n",
       "4998    522799\n",
       "4999    421999\n",
       "Name: Price, Length: 5000, dtype: int32"
      ]
     },
     "execution_count": 141,
     "metadata": {},
     "output_type": "execute_result"
    }
   ],
   "source": [
    "y"
   ]
  },
  {
   "cell_type": "code",
   "execution_count": 142,
   "metadata": {},
   "outputs": [],
   "source": [
    "#remove Skewness\n",
    "from sklearn.preprocessing import power_transform\n",
    "x=power_transform(x,method='yeo-johnson')"
   ]
  },
  {
   "cell_type": "code",
   "execution_count": 143,
   "metadata": {},
   "outputs": [
    {
     "data": {
      "text/plain": [
       "Price               0.457198\n",
       "Kilometer_Driven    1.155813\n",
       "Owner               0.000000\n",
       "Fuel_type           0.000000\n",
       "Manufacture_Year   -0.220560\n",
       "Car_Brand          -0.253045\n",
       "Car_Model           0.888590\n",
       "dtype: float64"
      ]
     },
     "execution_count": 143,
     "metadata": {},
     "output_type": "execute_result"
    }
   ],
   "source": [
    "df_new.skew()"
   ]
  },
  {
   "cell_type": "code",
   "execution_count": 144,
   "metadata": {},
   "outputs": [],
   "source": [
    "# Scaling in input Variables\n",
    "\n",
    "from sklearn.preprocessing import StandardScaler\n",
    "sc=StandardScaler()\n",
    "x=sc.fit_transform(x)"
   ]
  },
  {
   "cell_type": "code",
   "execution_count": 145,
   "metadata": {},
   "outputs": [],
   "source": [
    "# Splitting the data into tranning and testing data\n",
    "from sklearn.model_selection import train_test_split \n",
    "x_train,x_test,y_train,y_test=train_test_split(x,y,test_size=.30,random_state=42)"
   ]
  },
  {
   "cell_type": "code",
   "execution_count": 146,
   "metadata": {},
   "outputs": [
    {
     "name": "stdout",
     "output_type": "stream",
     "text": [
      "(3500, 6) \t\t (1500, 6)\n"
     ]
    }
   ],
   "source": [
    "#checking the shape\n",
    "print(x_train.shape, '\\t\\t',x_test.shape)"
   ]
  },
  {
   "cell_type": "code",
   "execution_count": 147,
   "metadata": {},
   "outputs": [
    {
     "name": "stdout",
     "output_type": "stream",
     "text": [
      "(3500,) \t (1500,)\n"
     ]
    }
   ],
   "source": [
    "print(y_train.shape,'\\t', y_test.shape)"
   ]
  },
  {
   "cell_type": "code",
   "execution_count": 149,
   "metadata": {},
   "outputs": [],
   "source": [
    "from sklearn.model_selection import GridSearchCV\n",
    "from sklearn.model_selection import cross_val_score\n",
    "import warnings\n",
    "warnings.filterwarnings('ignore')\n",
    "from sklearn.linear_model import LinearRegression,Lasso,Ridge,ElasticNet\n",
    "from sklearn.svm import SVR\n",
    "from sklearn.neighbors import KNeighborsRegressor\n",
    "from sklearn.tree import DecisionTreeRegressor"
   ]
  },
  {
   "cell_type": "code",
   "execution_count": 150,
   "metadata": {},
   "outputs": [
    {
     "name": "stdout",
     "output_type": "stream",
     "text": [
      "lr\n",
      "{'copy_X': True, 'fit_intercept': True, 'n_jobs': None, 'normalize': True}\n",
      "*************************************\n",
      "\n",
      "\n",
      "ls\n",
      "{'alpha': 10, 'random_state': 1}\n",
      "*************************************\n",
      "\n",
      "\n",
      "rd\n",
      "{'alpha': 0.001, 'copy_X': True, 'fit_intercept': True, 'normalize': True, 'random_state': 0, 'tol': 0.001}\n",
      "*************************************\n",
      "\n",
      "\n",
      "en\n",
      "{'alpha': 0.001, 'copy_X': True, 'fit_intercept': True, 'l1_ratio': 0.5, 'normalize': False}\n",
      "*************************************\n",
      "\n",
      "\n",
      "dt\n",
      "{'criterion': 'mse', 'splitter': 'best'}\n",
      "*************************************\n",
      "\n",
      "\n",
      "sv\n",
      "{'kernel': 'linear'}\n",
      "*************************************\n",
      "\n",
      "\n",
      "sv\n",
      "{'gamma': 'auto'}\n",
      "*************************************\n",
      "\n",
      "\n",
      "knn\n",
      "{'algorithm': 'auto', 'leaf_size': 30, 'metric_params': None, 'n_jobs': 1}\n",
      "*************************************\n",
      "\n",
      "\n"
     ]
    }
   ],
   "source": [
    "\n",
    "lr=LinearRegression()\n",
    "parameters ={'fit_intercept':[True,False],'normalize':[True,False],'copy_X':[True,False],'n_jobs':[None]}\n",
    "print(\"lr\")\n",
    "clf=GridSearchCV(lr,parameters)\n",
    "clf.fit(x_train,y_train)\n",
    "print(clf.best_params_)\n",
    "print('*************************************')\n",
    "print('\\n')\n",
    "\n",
    "ls=Lasso()\n",
    "parameters ={'alpha' :[.0001, .001, .01, .1, 1, 10], 'random_state':list(range(1,10))}\n",
    "print(\"ls\")\n",
    "clf=GridSearchCV(ls,parameters)\n",
    "clf.fit(x_train,y_train)\n",
    "print(clf.best_params_)\n",
    "print('*************************************')\n",
    "print('\\n')\n",
    "\n",
    "rd=Ridge()\n",
    "parameters ={'alpha':[.0001, .001, .01,.1 ,1],'fit_intercept':[True,False],'normalize':[True,False],'copy_X':[True,False],'tol':[1e-3], 'random_state':list(range(0,10))}\n",
    "print(\"rd\")\n",
    "clf=GridSearchCV(rd,parameters)\n",
    "clf.fit(x_train,y_train)\n",
    "print(clf.best_params_)\n",
    "print('*************************************')\n",
    "print('\\n')\n",
    "\n",
    "en=ElasticNet()\n",
    "parameters ={'alpha':[.0001, .001, .01,.1 ,1],'fit_intercept':[True,False],'normalize':[True,False],'copy_X':[True,False],'l1_ratio' :[0.5]}\n",
    "print(\"en\")\n",
    "clf=GridSearchCV(en,parameters)\n",
    "clf.fit(x_train,y_train)\n",
    "print(clf.best_params_)\n",
    "print('*************************************')\n",
    "print('\\n')\n",
    "\n",
    "dt=DecisionTreeRegressor()\n",
    "parameters ={'criterion':['mse','friedman_mse','mae'], 'splitter':['best','random']}\n",
    "clf=GridSearchCV(dt,parameters)\n",
    "print(\"dt\")\n",
    "clf.fit(x_train,y_train)\n",
    "print(clf.best_params_)\n",
    "print('*************************************')\n",
    "print('\\n')\n",
    "\n",
    "sv=SVR()\n",
    "parameters= {'kernel':['linear','poly','rbf','sigmoid']}\n",
    "print(\"sv\")\n",
    "clf=GridSearchCV(sv,parameters)\n",
    "clf.fit(x_train,y_train)\n",
    "print(clf.best_params_)\n",
    "print('*************************************')\n",
    "print('\\n')\n",
    "\n",
    "sv=SVR()\n",
    "parameters= {'gamma':['auto','scale']}\n",
    "print(\"sv\")\n",
    "clf=GridSearchCV(sv,parameters)\n",
    "clf.fit(x_train,y_train)\n",
    "print(clf.best_params_)\n",
    "print('*************************************')\n",
    "print('\\n')\n",
    "\n",
    "knn=KNeighborsRegressor()\n",
    "parameters= {'algorithm':['auto','ball_tree','brute'],'leaf_size':[30],'n_jobs':[1,None],'metric_params':[None]}\n",
    "print(\"knn\")\n",
    "clf=GridSearchCV(knn,parameters)\n",
    "clf.fit(x_train,y_train)\n",
    "print(clf.best_params_)\n",
    "print('*************************************')\n",
    "print('\\n')"
   ]
  },
  {
   "cell_type": "code",
   "execution_count": 151,
   "metadata": {},
   "outputs": [],
   "source": [
    "from sklearn.metrics import mean_absolute_error,mean_squared_error,r2_score"
   ]
  },
  {
   "cell_type": "code",
   "execution_count": 152,
   "metadata": {},
   "outputs": [
    {
     "name": "stdout",
     "output_type": "stream",
     "text": [
      "Score of LinearRegression(normalize=True) is: 0.914502404387501\n",
      "Error\n",
      "Mean Absolute Error: 35798.837915085685\n",
      "Mean Square Error: 1895131456.4113867\n",
      "root mean squared Error: 43533.107589642466\n",
      "r2_score: 0.9110568433601312\n",
      "*********************************************************************************************\n",
      "\n",
      "\n",
      "Score of Lasso(alpha=10, random_state=1) is: 0.9145023815607404\n",
      "Error\n",
      "Mean Absolute Error: 35800.604371696136\n",
      "Mean Square Error: 1895071539.7779593\n",
      "root mean squared Error: 43532.41941103158\n",
      "r2_score: 0.911059655394354\n",
      "*********************************************************************************************\n",
      "\n",
      "\n",
      "Score of Ridge(alpha=0.001, normalize=True, random_state=0) is: 0.9145018098988823\n",
      "Error\n",
      "Mean Absolute Error: 35798.909266744144\n",
      "Mean Square Error: 1894795319.0356832\n",
      "root mean squared Error: 43529.246708801234\n",
      "r2_score: 0.9110726191097017\n",
      "*********************************************************************************************\n",
      "\n",
      "\n",
      "Score of ElasticNet(alpha=0.001) is: 0.9145022581653138\n",
      "Error\n",
      "Mean Absolute Error: 35798.840113259655\n",
      "Mean Square Error: 1894960247.6550648\n",
      "root mean squared Error: 43531.14112511944\n",
      "r2_score: 0.9110648786060135\n",
      "*********************************************************************************************\n",
      "\n",
      "\n",
      "Score of DecisionTreeRegressor() is: 1.0\n",
      "Error\n",
      "Mean Absolute Error: 0.0\n",
      "Mean Square Error: 0.0\n",
      "root mean squared Error: 0.0\n",
      "r2_score: 1.0\n",
      "*********************************************************************************************\n",
      "\n",
      "\n",
      "Score of KNeighborsRegressor(n_jobs=1) is: 1.0\n",
      "Error\n",
      "Mean Absolute Error: 0.0\n",
      "Mean Square Error: 0.0\n",
      "root mean squared Error: 0.0\n",
      "r2_score: 1.0\n",
      "*********************************************************************************************\n",
      "\n",
      "\n",
      "Score of SVR(gamma='auto', kernel='linear') is: -0.04187719172280957\n",
      "Error\n",
      "Mean Absolute Error: 104847.7134988532\n",
      "Mean Square Error: 22659754539.104618\n",
      "root mean squared Error: 150531.57323001916\n",
      "r2_score: -0.06347772898507653\n",
      "*********************************************************************************************\n",
      "\n",
      "\n"
     ]
    }
   ],
   "source": [
    "model=[LinearRegression(copy_X=True,fit_intercept=True,n_jobs=None, normalize=True),Lasso(alpha=10,random_state=1),Ridge(alpha=.001, copy_X=True, fit_intercept=True, normalize=True, random_state=0, tol=0.001),ElasticNet(alpha=0.001, copy_X=True, fit_intercept=True, l1_ratio=0.5,normalize=False),DecisionTreeRegressor(criterion='mse', splitter='best'),KNeighborsRegressor(algorithm='auto', leaf_size=30, metric_params=None, n_jobs=1),SVR(kernel='linear', gamma='auto')]\n",
    "\n",
    "for m in model:\n",
    "    m.fit(x_train,y_train)\n",
    "    print('Score of',m,'is:',m.score(x_train,y_train))\n",
    "    predm=m.predict(x_test)\n",
    "    print('Error')\n",
    "    print('Mean Absolute Error:',mean_absolute_error(y_test,predm))\n",
    "    print('Mean Square Error:',mean_squared_error(y_test,predm))\n",
    "    print(\"root mean squared Error:\", np.sqrt(mean_squared_error(y_test,predm)))\n",
    "    print(\"r2_score:\",r2_score(y_test,predm))\n",
    "    print('*********************************************************************************************')\n",
    "    print('\\n')"
   ]
  },
  {
   "cell_type": "code",
   "execution_count": 153,
   "metadata": {},
   "outputs": [],
   "source": [
    "#Importing Boosting models\n",
    "from sklearn.ensemble import RandomForestRegressor\n",
    "from sklearn.ensemble import AdaBoostRegressor\n",
    "from sklearn.ensemble import GradientBoostingRegressor"
   ]
  },
  {
   "cell_type": "code",
   "execution_count": 154,
   "metadata": {},
   "outputs": [
    {
     "name": "stdout",
     "output_type": "stream",
     "text": [
      "rf\n",
      "score: 1.0\n",
      "\n",
      "\n",
      "Mean absolute Error: 0.0\n",
      "Mean Squared Error: 0.0\n",
      "Root Mean Squared Error: 0.0\n",
      "\n",
      "\n",
      "r2_score 1.0\n",
      "*************************************************************************************\n",
      "\n",
      "\n",
      "adb\n",
      "Score: 0.9829951713558162\n",
      "\n",
      "\n",
      "Mean absolute Error: 14805.196580624015\n",
      "Mean Squared Error: 398247670.9861666\n",
      "Root Mean Squared Error: 19956.14369025656\n",
      "\n",
      "\n",
      "r2_score 0.9813092622877679\n",
      "*************************************************************************************\n",
      "\n",
      "\n",
      "gbr\n",
      "score: 0.9996622304914801\n",
      "\n",
      "\n",
      "Mean absolute Error: 1482.0148648580564\n",
      "Mean Squared Error: 8012447.112800541\n",
      "Root Mean Squared Error: 2830.626628999406\n",
      "\n",
      "\n",
      "r2_score 0.999623956250522\n"
     ]
    }
   ],
   "source": [
    "#Cross validating \n",
    "rf=RandomForestRegressor(n_estimators=20,random_state=42)\n",
    "rf.fit(x_train,y_train)\n",
    "print('rf')\n",
    "print('score:',rf.score(x_train,y_train))\n",
    "predrf=rf.predict(x_test)\n",
    "print('\\n')\n",
    "print('Mean absolute Error:',mean_absolute_error(y_test,predrf))\n",
    "print('Mean Squared Error:',mean_squared_error(y_test,predrf))\n",
    "print('Root Mean Squared Error:',np.sqrt(mean_squared_error(y_test,predrf)))\n",
    "print('\\n')\n",
    "print(\"r2_score\",r2_score(y_test,predrf))\n",
    "print('*************************************************************************************')\n",
    "print('\\n')\n",
    "\n",
    "dt=DecisionTreeRegressor\n",
    "\n",
    "adb=AdaBoostRegressor(n_estimators=20,random_state=59,base_estimator=None,learning_rate=0.1)\n",
    "adb.fit(x_train,y_train)\n",
    "print('adb')\n",
    "print('Score:',adb.score(x_train,y_train))\n",
    "predadb=adb.predict(x_test)\n",
    "print('\\n')\n",
    "print('Mean absolute Error:',mean_absolute_error(y_test,predadb))\n",
    "print('Mean Squared Error:',mean_squared_error(y_test,predadb))\n",
    "print('Root Mean Squared Error:',np.sqrt(mean_squared_error(y_test,predadb)))\n",
    "print('\\n')\n",
    "print(\"r2_score\",r2_score(y_test,predadb))\n",
    "print('*************************************************************************************')\n",
    "print('\\n')\n",
    "\n",
    "gbr=GradientBoostingRegressor(criterion='mse', loss='lad', n_estimators=200)\n",
    "gbr.fit(x_train,y_train)\n",
    "print('gbr')\n",
    "print('score:',gbr.score(x_train,y_train))\n",
    "predgbr=gbr.predict(x_test)\n",
    "print('\\n')\n",
    "print('Mean absolute Error:',mean_absolute_error(y_test,predgbr))\n",
    "print('Mean Squared Error:',mean_squared_error(y_test,predgbr))\n",
    "print('Root Mean Squared Error:',np.sqrt(mean_squared_error(y_test,predgbr)))\n",
    "print('\\n')\n",
    "print(\"r2_score\",r2_score(y_test,predgbr))"
   ]
  },
  {
   "cell_type": "markdown",
   "metadata": {},
   "source": [
    "# RandomForestRegressor is giving us Maximum R2 score and less Mean Squared Error so we choose it as our final model."
   ]
  },
  {
   "cell_type": "markdown",
   "metadata": {},
   "source": [
    "# Hyperparameter tuning"
   ]
  },
  {
   "cell_type": "code",
   "execution_count": 155,
   "metadata": {},
   "outputs": [
    {
     "name": "stdout",
     "output_type": "stream",
     "text": [
      "{'criterion': 'friedman_mse', 'n_estimators': 100}\n"
     ]
    }
   ],
   "source": [
    "#Using GridSearchCV to find the best paarameters in Ridge Regressor\n",
    "\n",
    "from sklearn.model_selection import GridSearchCV\n",
    "\n",
    "parameters={'criterion':['friedman_mse','mae'], 'n_estimators':[100,200,300]}\n",
    "rf=RandomForestRegressor()\n",
    "\n",
    "reg=GridSearchCV(rf,parameters,n_jobs=-1)\n",
    "reg.fit(x,y)\n",
    "print(reg.best_params_)"
   ]
  },
  {
   "cell_type": "code",
   "execution_count": 163,
   "metadata": {},
   "outputs": [
    {
     "name": "stdout",
     "output_type": "stream",
     "text": [
      "score: 1.0\n",
      "\n",
      "\n",
      "Mean absolute error: 0.0\n",
      "Mean squared error: 0.0\n",
      "Root Mean Squared error: 0.0\n",
      "\n",
      "\n",
      "r2_score: 1.0\n",
      "\n",
      "\n"
     ]
    }
   ],
   "source": [
    "#using RandomForestRegressor with its best parameters\n",
    "\n",
    "RF=RandomForestRegressor(criterion= 'friedman_mse', n_estimators= 100)\n",
    "RF.fit(x_train,y_train)\n",
    "print('score:',RF.score(x_train,y_train))\n",
    "y_pred=RF.predict(x_test)\n",
    "print('\\n')\n",
    "print('Mean absolute error:',mean_absolute_error(y_test,y_pred))\n",
    "print('Mean squared error:',mean_squared_error(y_test,y_pred))\n",
    "print('Root Mean Squared error:',np.sqrt(mean_squared_error(y_test,y_pred)))\n",
    "print('\\n')\n",
    "print(\"r2_score:\",r2_score(y_test,y_pred))\n",
    "print('\\n')\n"
   ]
  },
  {
   "cell_type": "code",
   "execution_count": 164,
   "metadata": {},
   "outputs": [
    {
     "name": "stdout",
     "output_type": "stream",
     "text": [
      "Score: [1. 1. 1. 1. 1. 1. 1. 1. 1. 1.]\n",
      "Mean Score: 1.0\n",
      "Standard deviation: 0.0\n"
     ]
    }
   ],
   "source": [
    "#Cross validating RandomForest\n",
    "\n",
    "score=cross_val_score(RF,x,y,cv=10,scoring='r2')\n",
    "print(\"Score:\",score)\n",
    "print('Mean Score:',score.mean())\n",
    "print(\"Standard deviation:\",score.std())\n"
   ]
  },
  {
   "cell_type": "code",
   "execution_count": 165,
   "metadata": {},
   "outputs": [
    {
     "data": {
      "image/png": "[encoded data removed]",
      "text/plain": [
       "<Figure size 432x288 with 1 Axes>"
      ]
     },
     "metadata": {
      "needs_background": "light"
     },
     "output_type": "display_data"
    }
   ],
   "source": [
    "#plotting the distribution plot and we find the Gaussian plot\n",
    "\n",
    "sns.distplot(y_test-y_pred)\n",
    "plt.show()"
   ]
  },
  {
   "cell_type": "code",
   "execution_count": 166,
   "metadata": {},
   "outputs": [
    {
     "data": {
      "image/png": "[encoded data removed]",
      "text/plain": [
       "<Figure size 432x288 with 1 Axes>"
      ]
     },
     "metadata": {
      "needs_background": "light"
     },
     "output_type": "display_data"
    }
   ],
   "source": [
    "#Scatter plot between test data and prediction\n",
    "\n",
    "plt.scatter(y_test,y_pred, alpha=0.5)\n",
    "plt.xlabel(\"Y_test\")\n",
    "plt.ylabel(\"Y_pred\")\n",
    "plt.title(\"Scatter plot between test data and predicted data\",fontsize=15)\n",
    "plt.show()"
   ]
  },
  {
   "cell_type": "markdown",
   "metadata": {},
   "source": [
    "# Conclusion"
   ]
  },
  {
   "cell_type": "code",
   "execution_count": 167,
   "metadata": {},
   "outputs": [
    {
     "data": {
      "text/plain": [
       "array([378499, 180699, 412899, ..., 252799, 807999, 216199])"
      ]
     },
     "execution_count": 167,
     "metadata": {},
     "output_type": "execute_result"
    }
   ],
   "source": [
    "import numpy as np\n",
    "a=np.array(y_test)\n",
    "a"
   ]
  },
  {
   "cell_type": "code",
   "execution_count": 169,
   "metadata": {},
   "outputs": [
    {
     "data": {
      "text/plain": [
       "array([378499., 180699., 412899., ..., 252799., 807999., 216199.])"
      ]
     },
     "execution_count": 169,
     "metadata": {},
     "output_type": "execute_result"
    }
   ],
   "source": [
    "predicted=np.array(RF.predict(x_test))\n",
    "predicted"
   ]
  },
  {
   "cell_type": "code",
   "execution_count": 170,
   "metadata": {},
   "outputs": [],
   "source": [
    "df_com=pd.DataFrame({\"original\":a,\"predicted\":predicted},index= range(len(a)))"
   ]
  },
  {
   "cell_type": "code",
   "execution_count": 171,
   "metadata": {},
   "outputs": [
    {
     "data": {
      "text/html": [
       "<div>\n",
       "<style scoped>\n",
       "    .dataframe tbody tr th:only-of-type {\n",
       "        vertical-align: middle;\n",
       "    }\n",
       "\n",
       "    .dataframe tbody tr th {\n",
       "        vertical-align: top;\n",
       "    }\n",
       "\n",
       "    .dataframe thead th {\n",
       "        text-align: right;\n",
       "    }\n",
       "</style>\n",
       "<table border=\"1\" class=\"dataframe\">\n",
       "  <thead>\n",
       "    <tr style=\"text-align: right;\">\n",
       "      <th></th>\n",
       "      <th>original</th>\n",
       "      <th>predicted</th>\n",
       "    </tr>\n",
       "  </thead>\n",
       "  <tbody>\n",
       "    <tr>\n",
       "      <th>0</th>\n",
       "      <td>378499</td>\n",
       "      <td>378499.0</td>\n",
       "    </tr>\n",
       "    <tr>\n",
       "      <th>1</th>\n",
       "      <td>180699</td>\n",
       "      <td>180699.0</td>\n",
       "    </tr>\n",
       "    <tr>\n",
       "      <th>2</th>\n",
       "      <td>412899</td>\n",
       "      <td>412899.0</td>\n",
       "    </tr>\n",
       "    <tr>\n",
       "      <th>3</th>\n",
       "      <td>150899</td>\n",
       "      <td>150899.0</td>\n",
       "    </tr>\n",
       "    <tr>\n",
       "      <th>4</th>\n",
       "      <td>308899</td>\n",
       "      <td>308899.0</td>\n",
       "    </tr>\n",
       "    <tr>\n",
       "      <th>...</th>\n",
       "      <td>...</td>\n",
       "      <td>...</td>\n",
       "    </tr>\n",
       "    <tr>\n",
       "      <th>1495</th>\n",
       "      <td>300099</td>\n",
       "      <td>300099.0</td>\n",
       "    </tr>\n",
       "    <tr>\n",
       "      <th>1496</th>\n",
       "      <td>522799</td>\n",
       "      <td>522799.0</td>\n",
       "    </tr>\n",
       "    <tr>\n",
       "      <th>1497</th>\n",
       "      <td>252799</td>\n",
       "      <td>252799.0</td>\n",
       "    </tr>\n",
       "    <tr>\n",
       "      <th>1498</th>\n",
       "      <td>807999</td>\n",
       "      <td>807999.0</td>\n",
       "    </tr>\n",
       "    <tr>\n",
       "      <th>1499</th>\n",
       "      <td>216199</td>\n",
       "      <td>216199.0</td>\n",
       "    </tr>\n",
       "  </tbody>\n",
       "</table>\n",
       "<p>1500 rows × 2 columns</p>\n",
       "</div>"
      ],
      "text/plain": [
       "      original  predicted\n",
       "0       378499   378499.0\n",
       "1       180699   180699.0\n",
       "2       412899   412899.0\n",
       "3       150899   150899.0\n",
       "4       308899   308899.0\n",
       "...        ...        ...\n",
       "1495    300099   300099.0\n",
       "1496    522799   522799.0\n",
       "1497    252799   252799.0\n",
       "1498    807999   807999.0\n",
       "1499    216199   216199.0\n",
       "\n",
       "[1500 rows x 2 columns]"
      ]
     },
     "execution_count": 171,
     "metadata": {},
     "output_type": "execute_result"
    }
   ],
   "source": [
    "df_com"
   ]
  },
  {
   "cell_type": "code",
   "execution_count": 172,
   "metadata": {},
   "outputs": [],
   "source": [
    "#Saving the Model\n",
    "import pickle\n",
    "filename= 'Car_Price_Prediction.pkl'\n",
    "pickle.dump(RF,open(filename,'wb'))"
   ]
  },
  {
   "cell_type": "code",
   "execution_count": null,
   "metadata": {},
   "outputs": [],
   "source": []
  },
  {
   "cell_type": "code",
   "execution_count": null,
   "metadata": {},
   "outputs": [],
   "source": []
  },
  {
   "cell_type": "code",
   "execution_count": null,
   "metadata": {},
   "outputs": [],
   "source": []
  },
  {
   "cell_type": "code",
   "execution_count": null,
   "metadata": {},
   "outputs": [],
   "source": []
  },
  {
   "cell_type": "code",
   "execution_count": null,
   "metadata": {},
   "outputs": [],
   "source": []
  },
  {
   "cell_type": "code",
   "execution_count": null,
   "metadata": {},
   "outputs": [],
   "source": []
  },
  {
   "cell_type": "code",
   "execution_count": null,
   "metadata": {},
   "outputs": [],
   "source": []
  },
  {
   "cell_type": "code",
   "execution_count": null,
   "metadata": {},
   "outputs": [],
   "source": []
  },
  {
   "cell_type": "code",
   "execution_count": null,
   "metadata": {},
   "outputs": [],
   "source": []
  },
  {
   "cell_type": "code",
   "execution_count": null,
   "metadata": {},
   "outputs": [],
   "source": []
  },
  {
   "cell_type": "code",
   "execution_count": null,
   "metadata": {},
   "outputs": [],
   "source": []
  }
 ],
 "metadata": {
  "kernelspec": {
   "display_name": "Python 3",
   "language": "python",
   "name": "python3"
  },
  "language_info": {
   "codemirror_mode": {
    "name": "ipython",
    "version": 3
   },
   "file_extension": ".py",
   "mimetype": "text/x-python",
   "name": "python",
   "nbconvert_exporter": "python",
   "pygments_lexer": "ipython3",
   "version": "3.8.3"
  }
 },
 "nbformat": 4,
 "nbformat_minor": 4
}
